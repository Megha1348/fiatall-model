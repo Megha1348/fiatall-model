{
 "cells": [
  {
   "cell_type": "code",
   "execution_count": 1,
   "metadata": {},
   "outputs": [],
   "source": [
    "import pandas as a\n",
    "import pickle\n",
    "import warnings\n",
    "warnings.filterwarnings(\"ignore\")"
   ]
  },
  {
   "cell_type": "code",
   "execution_count": 2,
   "metadata": {},
   "outputs": [],
   "source": [
    "data=a.read_csv(\"fiat500.csv\")"
   ]
  },
  {
   "cell_type": "code",
   "execution_count": 3,
   "metadata": {},
   "outputs": [
    {
     "data": {
      "text/html": [
       "<div>\n",
       "<style scoped>\n",
       "    .dataframe tbody tr th:only-of-type {\n",
       "        vertical-align: middle;\n",
       "    }\n",
       "\n",
       "    .dataframe tbody tr th {\n",
       "        vertical-align: top;\n",
       "    }\n",
       "\n",
       "    .dataframe thead th {\n",
       "        text-align: right;\n",
       "    }\n",
       "</style>\n",
       "<table border=\"1\" class=\"dataframe\">\n",
       "  <thead>\n",
       "    <tr style=\"text-align: right;\">\n",
       "      <th></th>\n",
       "      <th>ID</th>\n",
       "      <th>model</th>\n",
       "      <th>engine_power</th>\n",
       "      <th>age_in_days</th>\n",
       "      <th>km</th>\n",
       "      <th>previous_owners</th>\n",
       "      <th>lat</th>\n",
       "      <th>lon</th>\n",
       "      <th>price</th>\n",
       "    </tr>\n",
       "  </thead>\n",
       "  <tbody>\n",
       "    <tr>\n",
       "      <th>0</th>\n",
       "      <td>1</td>\n",
       "      <td>lounge</td>\n",
       "      <td>51</td>\n",
       "      <td>882</td>\n",
       "      <td>25000</td>\n",
       "      <td>1</td>\n",
       "      <td>44.907242</td>\n",
       "      <td>8.611560</td>\n",
       "      <td>8900</td>\n",
       "    </tr>\n",
       "    <tr>\n",
       "      <th>1</th>\n",
       "      <td>2</td>\n",
       "      <td>pop</td>\n",
       "      <td>51</td>\n",
       "      <td>1186</td>\n",
       "      <td>32500</td>\n",
       "      <td>1</td>\n",
       "      <td>45.666359</td>\n",
       "      <td>12.241890</td>\n",
       "      <td>8800</td>\n",
       "    </tr>\n",
       "    <tr>\n",
       "      <th>2</th>\n",
       "      <td>3</td>\n",
       "      <td>sport</td>\n",
       "      <td>74</td>\n",
       "      <td>4658</td>\n",
       "      <td>142228</td>\n",
       "      <td>1</td>\n",
       "      <td>45.503300</td>\n",
       "      <td>11.417840</td>\n",
       "      <td>4200</td>\n",
       "    </tr>\n",
       "    <tr>\n",
       "      <th>3</th>\n",
       "      <td>4</td>\n",
       "      <td>lounge</td>\n",
       "      <td>51</td>\n",
       "      <td>2739</td>\n",
       "      <td>160000</td>\n",
       "      <td>1</td>\n",
       "      <td>40.633171</td>\n",
       "      <td>17.634609</td>\n",
       "      <td>6000</td>\n",
       "    </tr>\n",
       "    <tr>\n",
       "      <th>4</th>\n",
       "      <td>5</td>\n",
       "      <td>pop</td>\n",
       "      <td>73</td>\n",
       "      <td>3074</td>\n",
       "      <td>106880</td>\n",
       "      <td>1</td>\n",
       "      <td>41.903221</td>\n",
       "      <td>12.495650</td>\n",
       "      <td>5700</td>\n",
       "    </tr>\n",
       "  </tbody>\n",
       "</table>\n",
       "</div>"
      ],
      "text/plain": [
       "   ID   model  engine_power  age_in_days      km  previous_owners        lat  \\\n",
       "0   1  lounge            51          882   25000                1  44.907242   \n",
       "1   2     pop            51         1186   32500                1  45.666359   \n",
       "2   3   sport            74         4658  142228                1  45.503300   \n",
       "3   4  lounge            51         2739  160000                1  40.633171   \n",
       "4   5     pop            73         3074  106880                1  41.903221   \n",
       "\n",
       "         lon  price  \n",
       "0   8.611560   8900  \n",
       "1  12.241890   8800  \n",
       "2  11.417840   4200  \n",
       "3  17.634609   6000  \n",
       "4  12.495650   5700  "
      ]
     },
     "execution_count": 3,
     "metadata": {},
     "output_type": "execute_result"
    }
   ],
   "source": [
    "data.head(5)"
   ]
  },
  {
   "cell_type": "code",
   "execution_count": 4,
   "metadata": {},
   "outputs": [
    {
     "data": {
      "text/html": [
       "<div>\n",
       "<style scoped>\n",
       "    .dataframe tbody tr th:only-of-type {\n",
       "        vertical-align: middle;\n",
       "    }\n",
       "\n",
       "    .dataframe tbody tr th {\n",
       "        vertical-align: top;\n",
       "    }\n",
       "\n",
       "    .dataframe thead th {\n",
       "        text-align: right;\n",
       "    }\n",
       "</style>\n",
       "<table border=\"1\" class=\"dataframe\">\n",
       "  <thead>\n",
       "    <tr style=\"text-align: right;\">\n",
       "      <th></th>\n",
       "      <th>ID</th>\n",
       "      <th>engine_power</th>\n",
       "      <th>age_in_days</th>\n",
       "      <th>km</th>\n",
       "      <th>previous_owners</th>\n",
       "      <th>lat</th>\n",
       "      <th>lon</th>\n",
       "      <th>price</th>\n",
       "    </tr>\n",
       "  </thead>\n",
       "  <tbody>\n",
       "    <tr>\n",
       "      <th>count</th>\n",
       "      <td>1538.000000</td>\n",
       "      <td>1538.000000</td>\n",
       "      <td>1538.000000</td>\n",
       "      <td>1538.000000</td>\n",
       "      <td>1538.000000</td>\n",
       "      <td>1538.000000</td>\n",
       "      <td>1538.000000</td>\n",
       "      <td>1538.000000</td>\n",
       "    </tr>\n",
       "    <tr>\n",
       "      <th>mean</th>\n",
       "      <td>769.500000</td>\n",
       "      <td>51.904421</td>\n",
       "      <td>1650.980494</td>\n",
       "      <td>53396.011704</td>\n",
       "      <td>1.123537</td>\n",
       "      <td>43.541361</td>\n",
       "      <td>11.563428</td>\n",
       "      <td>8576.003901</td>\n",
       "    </tr>\n",
       "    <tr>\n",
       "      <th>std</th>\n",
       "      <td>444.126671</td>\n",
       "      <td>3.988023</td>\n",
       "      <td>1289.522278</td>\n",
       "      <td>40046.830723</td>\n",
       "      <td>0.416423</td>\n",
       "      <td>2.133518</td>\n",
       "      <td>2.328190</td>\n",
       "      <td>1939.958641</td>\n",
       "    </tr>\n",
       "    <tr>\n",
       "      <th>min</th>\n",
       "      <td>1.000000</td>\n",
       "      <td>51.000000</td>\n",
       "      <td>366.000000</td>\n",
       "      <td>1232.000000</td>\n",
       "      <td>1.000000</td>\n",
       "      <td>36.855839</td>\n",
       "      <td>7.245400</td>\n",
       "      <td>2500.000000</td>\n",
       "    </tr>\n",
       "    <tr>\n",
       "      <th>25%</th>\n",
       "      <td>385.250000</td>\n",
       "      <td>51.000000</td>\n",
       "      <td>670.000000</td>\n",
       "      <td>20006.250000</td>\n",
       "      <td>1.000000</td>\n",
       "      <td>41.802990</td>\n",
       "      <td>9.505090</td>\n",
       "      <td>7122.500000</td>\n",
       "    </tr>\n",
       "    <tr>\n",
       "      <th>50%</th>\n",
       "      <td>769.500000</td>\n",
       "      <td>51.000000</td>\n",
       "      <td>1035.000000</td>\n",
       "      <td>39031.000000</td>\n",
       "      <td>1.000000</td>\n",
       "      <td>44.394096</td>\n",
       "      <td>11.869260</td>\n",
       "      <td>9000.000000</td>\n",
       "    </tr>\n",
       "    <tr>\n",
       "      <th>75%</th>\n",
       "      <td>1153.750000</td>\n",
       "      <td>51.000000</td>\n",
       "      <td>2616.000000</td>\n",
       "      <td>79667.750000</td>\n",
       "      <td>1.000000</td>\n",
       "      <td>45.467960</td>\n",
       "      <td>12.769040</td>\n",
       "      <td>10000.000000</td>\n",
       "    </tr>\n",
       "    <tr>\n",
       "      <th>max</th>\n",
       "      <td>1538.000000</td>\n",
       "      <td>77.000000</td>\n",
       "      <td>4658.000000</td>\n",
       "      <td>235000.000000</td>\n",
       "      <td>4.000000</td>\n",
       "      <td>46.795612</td>\n",
       "      <td>18.365520</td>\n",
       "      <td>11100.000000</td>\n",
       "    </tr>\n",
       "  </tbody>\n",
       "</table>\n",
       "</div>"
      ],
      "text/plain": [
       "                ID  engine_power  age_in_days             km  previous_owners  \\\n",
       "count  1538.000000   1538.000000  1538.000000    1538.000000      1538.000000   \n",
       "mean    769.500000     51.904421  1650.980494   53396.011704         1.123537   \n",
       "std     444.126671      3.988023  1289.522278   40046.830723         0.416423   \n",
       "min       1.000000     51.000000   366.000000    1232.000000         1.000000   \n",
       "25%     385.250000     51.000000   670.000000   20006.250000         1.000000   \n",
       "50%     769.500000     51.000000  1035.000000   39031.000000         1.000000   \n",
       "75%    1153.750000     51.000000  2616.000000   79667.750000         1.000000   \n",
       "max    1538.000000     77.000000  4658.000000  235000.000000         4.000000   \n",
       "\n",
       "               lat          lon         price  \n",
       "count  1538.000000  1538.000000   1538.000000  \n",
       "mean     43.541361    11.563428   8576.003901  \n",
       "std       2.133518     2.328190   1939.958641  \n",
       "min      36.855839     7.245400   2500.000000  \n",
       "25%      41.802990     9.505090   7122.500000  \n",
       "50%      44.394096    11.869260   9000.000000  \n",
       "75%      45.467960    12.769040  10000.000000  \n",
       "max      46.795612    18.365520  11100.000000  "
      ]
     },
     "execution_count": 4,
     "metadata": {},
     "output_type": "execute_result"
    }
   ],
   "source": [
    "data.describe()"
   ]
  },
  {
   "cell_type": "code",
   "execution_count": null,
   "metadata": {},
   "outputs": [],
   "source": []
  },
  {
   "cell_type": "code",
   "execution_count": null,
   "metadata": {},
   "outputs": [],
   "source": []
  },
  {
   "cell_type": "code",
   "execution_count": 5,
   "metadata": {},
   "outputs": [
    {
     "data": {
      "text/html": [
       "<div>\n",
       "<style scoped>\n",
       "    .dataframe tbody tr th:only-of-type {\n",
       "        vertical-align: middle;\n",
       "    }\n",
       "\n",
       "    .dataframe tbody tr th {\n",
       "        vertical-align: top;\n",
       "    }\n",
       "\n",
       "    .dataframe thead th {\n",
       "        text-align: right;\n",
       "    }\n",
       "</style>\n",
       "<table border=\"1\" class=\"dataframe\">\n",
       "  <thead>\n",
       "    <tr style=\"text-align: right;\">\n",
       "      <th></th>\n",
       "      <th>ID</th>\n",
       "      <th>model</th>\n",
       "      <th>engine_power</th>\n",
       "      <th>age_in_days</th>\n",
       "      <th>km</th>\n",
       "      <th>previous_owners</th>\n",
       "      <th>lat</th>\n",
       "      <th>lon</th>\n",
       "      <th>price</th>\n",
       "    </tr>\n",
       "  </thead>\n",
       "  <tbody>\n",
       "    <tr>\n",
       "      <th>1528</th>\n",
       "      <td>1529</td>\n",
       "      <td>lounge</td>\n",
       "      <td>51</td>\n",
       "      <td>2861</td>\n",
       "      <td>126000</td>\n",
       "      <td>1</td>\n",
       "      <td>43.841980</td>\n",
       "      <td>10.51531</td>\n",
       "      <td>5500</td>\n",
       "    </tr>\n",
       "    <tr>\n",
       "      <th>1529</th>\n",
       "      <td>1530</td>\n",
       "      <td>lounge</td>\n",
       "      <td>51</td>\n",
       "      <td>731</td>\n",
       "      <td>22551</td>\n",
       "      <td>1</td>\n",
       "      <td>38.122070</td>\n",
       "      <td>13.36112</td>\n",
       "      <td>9900</td>\n",
       "    </tr>\n",
       "    <tr>\n",
       "      <th>1530</th>\n",
       "      <td>1531</td>\n",
       "      <td>lounge</td>\n",
       "      <td>51</td>\n",
       "      <td>670</td>\n",
       "      <td>29000</td>\n",
       "      <td>1</td>\n",
       "      <td>45.764648</td>\n",
       "      <td>8.99450</td>\n",
       "      <td>10800</td>\n",
       "    </tr>\n",
       "    <tr>\n",
       "      <th>1531</th>\n",
       "      <td>1532</td>\n",
       "      <td>sport</td>\n",
       "      <td>73</td>\n",
       "      <td>4505</td>\n",
       "      <td>127000</td>\n",
       "      <td>1</td>\n",
       "      <td>45.528511</td>\n",
       "      <td>9.59323</td>\n",
       "      <td>4750</td>\n",
       "    </tr>\n",
       "    <tr>\n",
       "      <th>1532</th>\n",
       "      <td>1533</td>\n",
       "      <td>pop</td>\n",
       "      <td>51</td>\n",
       "      <td>1917</td>\n",
       "      <td>52008</td>\n",
       "      <td>1</td>\n",
       "      <td>45.548000</td>\n",
       "      <td>11.54947</td>\n",
       "      <td>9900</td>\n",
       "    </tr>\n",
       "    <tr>\n",
       "      <th>1533</th>\n",
       "      <td>1534</td>\n",
       "      <td>sport</td>\n",
       "      <td>51</td>\n",
       "      <td>3712</td>\n",
       "      <td>115280</td>\n",
       "      <td>1</td>\n",
       "      <td>45.069679</td>\n",
       "      <td>7.70492</td>\n",
       "      <td>5200</td>\n",
       "    </tr>\n",
       "    <tr>\n",
       "      <th>1534</th>\n",
       "      <td>1535</td>\n",
       "      <td>lounge</td>\n",
       "      <td>74</td>\n",
       "      <td>3835</td>\n",
       "      <td>112000</td>\n",
       "      <td>1</td>\n",
       "      <td>45.845692</td>\n",
       "      <td>8.66687</td>\n",
       "      <td>4600</td>\n",
       "    </tr>\n",
       "    <tr>\n",
       "      <th>1535</th>\n",
       "      <td>1536</td>\n",
       "      <td>pop</td>\n",
       "      <td>51</td>\n",
       "      <td>2223</td>\n",
       "      <td>60457</td>\n",
       "      <td>1</td>\n",
       "      <td>45.481541</td>\n",
       "      <td>9.41348</td>\n",
       "      <td>7500</td>\n",
       "    </tr>\n",
       "    <tr>\n",
       "      <th>1536</th>\n",
       "      <td>1537</td>\n",
       "      <td>lounge</td>\n",
       "      <td>51</td>\n",
       "      <td>2557</td>\n",
       "      <td>80750</td>\n",
       "      <td>1</td>\n",
       "      <td>45.000702</td>\n",
       "      <td>7.68227</td>\n",
       "      <td>5990</td>\n",
       "    </tr>\n",
       "    <tr>\n",
       "      <th>1537</th>\n",
       "      <td>1538</td>\n",
       "      <td>pop</td>\n",
       "      <td>51</td>\n",
       "      <td>1766</td>\n",
       "      <td>54276</td>\n",
       "      <td>1</td>\n",
       "      <td>40.323410</td>\n",
       "      <td>17.56827</td>\n",
       "      <td>7900</td>\n",
       "    </tr>\n",
       "  </tbody>\n",
       "</table>\n",
       "</div>"
      ],
      "text/plain": [
       "        ID   model  engine_power  age_in_days      km  previous_owners  \\\n",
       "1528  1529  lounge            51         2861  126000                1   \n",
       "1529  1530  lounge            51          731   22551                1   \n",
       "1530  1531  lounge            51          670   29000                1   \n",
       "1531  1532   sport            73         4505  127000                1   \n",
       "1532  1533     pop            51         1917   52008                1   \n",
       "1533  1534   sport            51         3712  115280                1   \n",
       "1534  1535  lounge            74         3835  112000                1   \n",
       "1535  1536     pop            51         2223   60457                1   \n",
       "1536  1537  lounge            51         2557   80750                1   \n",
       "1537  1538     pop            51         1766   54276                1   \n",
       "\n",
       "            lat       lon  price  \n",
       "1528  43.841980  10.51531   5500  \n",
       "1529  38.122070  13.36112   9900  \n",
       "1530  45.764648   8.99450  10800  \n",
       "1531  45.528511   9.59323   4750  \n",
       "1532  45.548000  11.54947   9900  \n",
       "1533  45.069679   7.70492   5200  \n",
       "1534  45.845692   8.66687   4600  \n",
       "1535  45.481541   9.41348   7500  \n",
       "1536  45.000702   7.68227   5990  \n",
       "1537  40.323410  17.56827   7900  "
      ]
     },
     "execution_count": 5,
     "metadata": {},
     "output_type": "execute_result"
    }
   ],
   "source": [
    "data.tail(10)"
   ]
  },
  {
   "cell_type": "code",
   "execution_count": 6,
   "metadata": {},
   "outputs": [
    {
     "data": {
      "text/plain": [
       "array(['lounge', 'pop', 'sport'], dtype=object)"
      ]
     },
     "execution_count": 6,
     "metadata": {},
     "output_type": "execute_result"
    }
   ],
   "source": [
    "data['model'].unique()"
   ]
  },
  {
   "cell_type": "code",
   "execution_count": 7,
   "metadata": {},
   "outputs": [
    {
     "name": "stdout",
     "output_type": "stream",
     "text": [
      "<class 'pandas.core.frame.DataFrame'>\n",
      "RangeIndex: 1538 entries, 0 to 1537\n",
      "Data columns (total 9 columns):\n",
      " #   Column           Non-Null Count  Dtype  \n",
      "---  ------           --------------  -----  \n",
      " 0   ID               1538 non-null   int64  \n",
      " 1   model            1538 non-null   object \n",
      " 2   engine_power     1538 non-null   int64  \n",
      " 3   age_in_days      1538 non-null   int64  \n",
      " 4   km               1538 non-null   int64  \n",
      " 5   previous_owners  1538 non-null   int64  \n",
      " 6   lat              1538 non-null   float64\n",
      " 7   lon              1538 non-null   float64\n",
      " 8   price            1538 non-null   int64  \n",
      "dtypes: float64(2), int64(6), object(1)\n",
      "memory usage: 108.3+ KB\n"
     ]
    }
   ],
   "source": [
    "data.info()"
   ]
  },
  {
   "cell_type": "code",
   "execution_count": 8,
   "metadata": {},
   "outputs": [
    {
     "data": {
      "text/html": [
       "<div>\n",
       "<style scoped>\n",
       "    .dataframe tbody tr th:only-of-type {\n",
       "        vertical-align: middle;\n",
       "    }\n",
       "\n",
       "    .dataframe tbody tr th {\n",
       "        vertical-align: top;\n",
       "    }\n",
       "\n",
       "    .dataframe thead th {\n",
       "        text-align: right;\n",
       "    }\n",
       "</style>\n",
       "<table border=\"1\" class=\"dataframe\">\n",
       "  <thead>\n",
       "    <tr style=\"text-align: right;\">\n",
       "      <th></th>\n",
       "      <th>ID</th>\n",
       "      <th>engine_power</th>\n",
       "      <th>age_in_days</th>\n",
       "      <th>km</th>\n",
       "      <th>previous_owners</th>\n",
       "      <th>lat</th>\n",
       "      <th>lon</th>\n",
       "      <th>price</th>\n",
       "    </tr>\n",
       "    <tr>\n",
       "      <th>model</th>\n",
       "      <th></th>\n",
       "      <th></th>\n",
       "      <th></th>\n",
       "      <th></th>\n",
       "      <th></th>\n",
       "      <th></th>\n",
       "      <th></th>\n",
       "      <th></th>\n",
       "    </tr>\n",
       "  </thead>\n",
       "  <tbody>\n",
       "    <tr>\n",
       "      <th>lounge</th>\n",
       "      <td>1094</td>\n",
       "      <td>1094</td>\n",
       "      <td>1094</td>\n",
       "      <td>1094</td>\n",
       "      <td>1094</td>\n",
       "      <td>1094</td>\n",
       "      <td>1094</td>\n",
       "      <td>1094</td>\n",
       "    </tr>\n",
       "    <tr>\n",
       "      <th>pop</th>\n",
       "      <td>358</td>\n",
       "      <td>358</td>\n",
       "      <td>358</td>\n",
       "      <td>358</td>\n",
       "      <td>358</td>\n",
       "      <td>358</td>\n",
       "      <td>358</td>\n",
       "      <td>358</td>\n",
       "    </tr>\n",
       "    <tr>\n",
       "      <th>sport</th>\n",
       "      <td>86</td>\n",
       "      <td>86</td>\n",
       "      <td>86</td>\n",
       "      <td>86</td>\n",
       "      <td>86</td>\n",
       "      <td>86</td>\n",
       "      <td>86</td>\n",
       "      <td>86</td>\n",
       "    </tr>\n",
       "  </tbody>\n",
       "</table>\n",
       "</div>"
      ],
      "text/plain": [
       "          ID  engine_power  age_in_days    km  previous_owners   lat   lon  \\\n",
       "model                                                                        \n",
       "lounge  1094          1094         1094  1094             1094  1094  1094   \n",
       "pop      358           358          358   358              358   358   358   \n",
       "sport     86            86           86    86               86    86    86   \n",
       "\n",
       "        price  \n",
       "model          \n",
       "lounge   1094  \n",
       "pop       358  \n",
       "sport      86  "
      ]
     },
     "execution_count": 8,
     "metadata": {},
     "output_type": "execute_result"
    }
   ],
   "source": [
    "data.groupby(['model']).count()"
   ]
  },
  {
   "cell_type": "code",
   "execution_count": 9,
   "metadata": {},
   "outputs": [
    {
     "data": {
      "text/html": [
       "<div>\n",
       "<style scoped>\n",
       "    .dataframe tbody tr th:only-of-type {\n",
       "        vertical-align: middle;\n",
       "    }\n",
       "\n",
       "    .dataframe tbody tr th {\n",
       "        vertical-align: top;\n",
       "    }\n",
       "\n",
       "    .dataframe thead th {\n",
       "        text-align: right;\n",
       "    }\n",
       "</style>\n",
       "<table border=\"1\" class=\"dataframe\">\n",
       "  <thead>\n",
       "    <tr style=\"text-align: right;\">\n",
       "      <th></th>\n",
       "      <th>ID</th>\n",
       "      <th>model</th>\n",
       "      <th>engine_power</th>\n",
       "      <th>age_in_days</th>\n",
       "      <th>km</th>\n",
       "      <th>lat</th>\n",
       "      <th>lon</th>\n",
       "      <th>price</th>\n",
       "    </tr>\n",
       "    <tr>\n",
       "      <th>previous_owners</th>\n",
       "      <th></th>\n",
       "      <th></th>\n",
       "      <th></th>\n",
       "      <th></th>\n",
       "      <th></th>\n",
       "      <th></th>\n",
       "      <th></th>\n",
       "      <th></th>\n",
       "    </tr>\n",
       "  </thead>\n",
       "  <tbody>\n",
       "    <tr>\n",
       "      <th>1</th>\n",
       "      <td>1389</td>\n",
       "      <td>1389</td>\n",
       "      <td>1389</td>\n",
       "      <td>1389</td>\n",
       "      <td>1389</td>\n",
       "      <td>1389</td>\n",
       "      <td>1389</td>\n",
       "      <td>1389</td>\n",
       "    </tr>\n",
       "    <tr>\n",
       "      <th>2</th>\n",
       "      <td>117</td>\n",
       "      <td>117</td>\n",
       "      <td>117</td>\n",
       "      <td>117</td>\n",
       "      <td>117</td>\n",
       "      <td>117</td>\n",
       "      <td>117</td>\n",
       "      <td>117</td>\n",
       "    </tr>\n",
       "    <tr>\n",
       "      <th>3</th>\n",
       "      <td>23</td>\n",
       "      <td>23</td>\n",
       "      <td>23</td>\n",
       "      <td>23</td>\n",
       "      <td>23</td>\n",
       "      <td>23</td>\n",
       "      <td>23</td>\n",
       "      <td>23</td>\n",
       "    </tr>\n",
       "    <tr>\n",
       "      <th>4</th>\n",
       "      <td>9</td>\n",
       "      <td>9</td>\n",
       "      <td>9</td>\n",
       "      <td>9</td>\n",
       "      <td>9</td>\n",
       "      <td>9</td>\n",
       "      <td>9</td>\n",
       "      <td>9</td>\n",
       "    </tr>\n",
       "  </tbody>\n",
       "</table>\n",
       "</div>"
      ],
      "text/plain": [
       "                   ID  model  engine_power  age_in_days    km   lat   lon  \\\n",
       "previous_owners                                                             \n",
       "1                1389   1389          1389         1389  1389  1389  1389   \n",
       "2                 117    117           117          117   117   117   117   \n",
       "3                  23     23            23           23    23    23    23   \n",
       "4                   9      9             9            9     9     9     9   \n",
       "\n",
       "                 price  \n",
       "previous_owners         \n",
       "1                 1389  \n",
       "2                  117  \n",
       "3                   23  \n",
       "4                    9  "
      ]
     },
     "execution_count": 9,
     "metadata": {},
     "output_type": "execute_result"
    }
   ],
   "source": [
    "data.groupby(['previous_owners']).count()"
   ]
  },
  {
   "cell_type": "code",
   "execution_count": 10,
   "metadata": {},
   "outputs": [
    {
     "data": {
      "text/plain": [
       "array(['lounge', 'pop', 'sport'], dtype=object)"
      ]
     },
     "execution_count": 10,
     "metadata": {},
     "output_type": "execute_result"
    }
   ],
   "source": [
    "data['model'].unique()"
   ]
  },
  {
   "cell_type": "code",
   "execution_count": 11,
   "metadata": {},
   "outputs": [
    {
     "data": {
      "text/plain": [
       "(1538, 9)"
      ]
     },
     "execution_count": 11,
     "metadata": {},
     "output_type": "execute_result"
    }
   ],
   "source": [
    "data.shape\n"
   ]
  },
  {
   "cell_type": "code",
   "execution_count": 12,
   "metadata": {},
   "outputs": [],
   "source": [
    "data1=data.drop(['lat','ID'],axis=1) "
   ]
  },
  {
   "cell_type": "code",
   "execution_count": 13,
   "metadata": {},
   "outputs": [],
   "source": [
    "\n",
    "data2=data1.drop('lon',axis=1)"
   ]
  },
  {
   "cell_type": "code",
   "execution_count": 14,
   "metadata": {},
   "outputs": [
    {
     "data": {
      "text/plain": [
       "(1538, 6)"
      ]
     },
     "execution_count": 14,
     "metadata": {},
     "output_type": "execute_result"
    }
   ],
   "source": [
    "data2.shape\n"
   ]
  },
  {
   "cell_type": "code",
   "execution_count": 15,
   "metadata": {},
   "outputs": [
    {
     "data": {
      "text/html": [
       "<div>\n",
       "<style scoped>\n",
       "    .dataframe tbody tr th:only-of-type {\n",
       "        vertical-align: middle;\n",
       "    }\n",
       "\n",
       "    .dataframe tbody tr th {\n",
       "        vertical-align: top;\n",
       "    }\n",
       "\n",
       "    .dataframe thead th {\n",
       "        text-align: right;\n",
       "    }\n",
       "</style>\n",
       "<table border=\"1\" class=\"dataframe\">\n",
       "  <thead>\n",
       "    <tr style=\"text-align: right;\">\n",
       "      <th></th>\n",
       "      <th>model</th>\n",
       "      <th>engine_power</th>\n",
       "      <th>age_in_days</th>\n",
       "      <th>km</th>\n",
       "      <th>previous_owners</th>\n",
       "      <th>price</th>\n",
       "    </tr>\n",
       "  </thead>\n",
       "  <tbody>\n",
       "    <tr>\n",
       "      <th>0</th>\n",
       "      <td>lounge</td>\n",
       "      <td>51</td>\n",
       "      <td>882</td>\n",
       "      <td>25000</td>\n",
       "      <td>1</td>\n",
       "      <td>8900</td>\n",
       "    </tr>\n",
       "    <tr>\n",
       "      <th>1</th>\n",
       "      <td>pop</td>\n",
       "      <td>51</td>\n",
       "      <td>1186</td>\n",
       "      <td>32500</td>\n",
       "      <td>1</td>\n",
       "      <td>8800</td>\n",
       "    </tr>\n",
       "    <tr>\n",
       "      <th>2</th>\n",
       "      <td>sport</td>\n",
       "      <td>74</td>\n",
       "      <td>4658</td>\n",
       "      <td>142228</td>\n",
       "      <td>1</td>\n",
       "      <td>4200</td>\n",
       "    </tr>\n",
       "  </tbody>\n",
       "</table>\n",
       "</div>"
      ],
      "text/plain": [
       "    model  engine_power  age_in_days      km  previous_owners  price\n",
       "0  lounge            51          882   25000                1   8900\n",
       "1     pop            51         1186   32500                1   8800\n",
       "2   sport            74         4658  142228                1   4200"
      ]
     },
     "execution_count": 15,
     "metadata": {},
     "output_type": "execute_result"
    }
   ],
   "source": [
    "data2.head(3)"
   ]
  },
  {
   "cell_type": "code",
   "execution_count": 16,
   "metadata": {},
   "outputs": [],
   "source": [
    "data2=a.get_dummies(data2,dtype=int)"
   ]
  },
  {
   "cell_type": "code",
   "execution_count": 17,
   "metadata": {},
   "outputs": [
    {
     "data": {
      "text/plain": [
       "(1538, 8)"
      ]
     },
     "execution_count": 17,
     "metadata": {},
     "output_type": "execute_result"
    }
   ],
   "source": [
    "\n",
    "data2.shape"
   ]
  },
  {
   "cell_type": "code",
   "execution_count": 18,
   "metadata": {},
   "outputs": [
    {
     "data": {
      "text/html": [
       "<div>\n",
       "<style scoped>\n",
       "    .dataframe tbody tr th:only-of-type {\n",
       "        vertical-align: middle;\n",
       "    }\n",
       "\n",
       "    .dataframe tbody tr th {\n",
       "        vertical-align: top;\n",
       "    }\n",
       "\n",
       "    .dataframe thead th {\n",
       "        text-align: right;\n",
       "    }\n",
       "</style>\n",
       "<table border=\"1\" class=\"dataframe\">\n",
       "  <thead>\n",
       "    <tr style=\"text-align: right;\">\n",
       "      <th></th>\n",
       "      <th>engine_power</th>\n",
       "      <th>age_in_days</th>\n",
       "      <th>km</th>\n",
       "      <th>previous_owners</th>\n",
       "      <th>price</th>\n",
       "      <th>model_lounge</th>\n",
       "      <th>model_pop</th>\n",
       "      <th>model_sport</th>\n",
       "    </tr>\n",
       "  </thead>\n",
       "  <tbody>\n",
       "    <tr>\n",
       "      <th>0</th>\n",
       "      <td>51</td>\n",
       "      <td>882</td>\n",
       "      <td>25000</td>\n",
       "      <td>1</td>\n",
       "      <td>8900</td>\n",
       "      <td>1</td>\n",
       "      <td>0</td>\n",
       "      <td>0</td>\n",
       "    </tr>\n",
       "    <tr>\n",
       "      <th>1</th>\n",
       "      <td>51</td>\n",
       "      <td>1186</td>\n",
       "      <td>32500</td>\n",
       "      <td>1</td>\n",
       "      <td>8800</td>\n",
       "      <td>0</td>\n",
       "      <td>1</td>\n",
       "      <td>0</td>\n",
       "    </tr>\n",
       "    <tr>\n",
       "      <th>2</th>\n",
       "      <td>74</td>\n",
       "      <td>4658</td>\n",
       "      <td>142228</td>\n",
       "      <td>1</td>\n",
       "      <td>4200</td>\n",
       "      <td>0</td>\n",
       "      <td>0</td>\n",
       "      <td>1</td>\n",
       "    </tr>\n",
       "  </tbody>\n",
       "</table>\n",
       "</div>"
      ],
      "text/plain": [
       "   engine_power  age_in_days      km  previous_owners  price  model_lounge  \\\n",
       "0            51          882   25000                1   8900             1   \n",
       "1            51         1186   32500                1   8800             0   \n",
       "2            74         4658  142228                1   4200             0   \n",
       "\n",
       "   model_pop  model_sport  \n",
       "0          0            0  \n",
       "1          1            0  \n",
       "2          0            1  "
      ]
     },
     "execution_count": 18,
     "metadata": {},
     "output_type": "execute_result"
    }
   ],
   "source": [
    "data2.head(3)"
   ]
  },
  {
   "cell_type": "code",
   "execution_count": 19,
   "metadata": {},
   "outputs": [],
   "source": [
    "y=data2['price']\n",
    "X=data2.drop('price',axis=1)\n"
   ]
  },
  {
   "cell_type": "code",
   "execution_count": 20,
   "metadata": {},
   "outputs": [
    {
     "data": {
      "text/plain": [
       "0       8900\n",
       "1       8800\n",
       "2       4200\n",
       "3       6000\n",
       "4       5700\n",
       "        ... \n",
       "1533    5200\n",
       "1534    4600\n",
       "1535    7500\n",
       "1536    5990\n",
       "1537    7900\n",
       "Name: price, Length: 1538, dtype: int64"
      ]
     },
     "execution_count": 20,
     "metadata": {},
     "output_type": "execute_result"
    }
   ],
   "source": [
    "y\n"
   ]
  },
  {
   "cell_type": "code",
   "execution_count": 21,
   "metadata": {},
   "outputs": [
    {
     "data": {
      "text/html": [
       "<div>\n",
       "<style scoped>\n",
       "    .dataframe tbody tr th:only-of-type {\n",
       "        vertical-align: middle;\n",
       "    }\n",
       "\n",
       "    .dataframe tbody tr th {\n",
       "        vertical-align: top;\n",
       "    }\n",
       "\n",
       "    .dataframe thead th {\n",
       "        text-align: right;\n",
       "    }\n",
       "</style>\n",
       "<table border=\"1\" class=\"dataframe\">\n",
       "  <thead>\n",
       "    <tr style=\"text-align: right;\">\n",
       "      <th></th>\n",
       "      <th>engine_power</th>\n",
       "      <th>age_in_days</th>\n",
       "      <th>km</th>\n",
       "      <th>previous_owners</th>\n",
       "      <th>model_lounge</th>\n",
       "      <th>model_pop</th>\n",
       "      <th>model_sport</th>\n",
       "    </tr>\n",
       "  </thead>\n",
       "  <tbody>\n",
       "    <tr>\n",
       "      <th>0</th>\n",
       "      <td>51</td>\n",
       "      <td>882</td>\n",
       "      <td>25000</td>\n",
       "      <td>1</td>\n",
       "      <td>1</td>\n",
       "      <td>0</td>\n",
       "      <td>0</td>\n",
       "    </tr>\n",
       "    <tr>\n",
       "      <th>1</th>\n",
       "      <td>51</td>\n",
       "      <td>1186</td>\n",
       "      <td>32500</td>\n",
       "      <td>1</td>\n",
       "      <td>0</td>\n",
       "      <td>1</td>\n",
       "      <td>0</td>\n",
       "    </tr>\n",
       "    <tr>\n",
       "      <th>2</th>\n",
       "      <td>74</td>\n",
       "      <td>4658</td>\n",
       "      <td>142228</td>\n",
       "      <td>1</td>\n",
       "      <td>0</td>\n",
       "      <td>0</td>\n",
       "      <td>1</td>\n",
       "    </tr>\n",
       "    <tr>\n",
       "      <th>3</th>\n",
       "      <td>51</td>\n",
       "      <td>2739</td>\n",
       "      <td>160000</td>\n",
       "      <td>1</td>\n",
       "      <td>1</td>\n",
       "      <td>0</td>\n",
       "      <td>0</td>\n",
       "    </tr>\n",
       "    <tr>\n",
       "      <th>4</th>\n",
       "      <td>73</td>\n",
       "      <td>3074</td>\n",
       "      <td>106880</td>\n",
       "      <td>1</td>\n",
       "      <td>0</td>\n",
       "      <td>1</td>\n",
       "      <td>0</td>\n",
       "    </tr>\n",
       "    <tr>\n",
       "      <th>...</th>\n",
       "      <td>...</td>\n",
       "      <td>...</td>\n",
       "      <td>...</td>\n",
       "      <td>...</td>\n",
       "      <td>...</td>\n",
       "      <td>...</td>\n",
       "      <td>...</td>\n",
       "    </tr>\n",
       "    <tr>\n",
       "      <th>1533</th>\n",
       "      <td>51</td>\n",
       "      <td>3712</td>\n",
       "      <td>115280</td>\n",
       "      <td>1</td>\n",
       "      <td>0</td>\n",
       "      <td>0</td>\n",
       "      <td>1</td>\n",
       "    </tr>\n",
       "    <tr>\n",
       "      <th>1534</th>\n",
       "      <td>74</td>\n",
       "      <td>3835</td>\n",
       "      <td>112000</td>\n",
       "      <td>1</td>\n",
       "      <td>1</td>\n",
       "      <td>0</td>\n",
       "      <td>0</td>\n",
       "    </tr>\n",
       "    <tr>\n",
       "      <th>1535</th>\n",
       "      <td>51</td>\n",
       "      <td>2223</td>\n",
       "      <td>60457</td>\n",
       "      <td>1</td>\n",
       "      <td>0</td>\n",
       "      <td>1</td>\n",
       "      <td>0</td>\n",
       "    </tr>\n",
       "    <tr>\n",
       "      <th>1536</th>\n",
       "      <td>51</td>\n",
       "      <td>2557</td>\n",
       "      <td>80750</td>\n",
       "      <td>1</td>\n",
       "      <td>1</td>\n",
       "      <td>0</td>\n",
       "      <td>0</td>\n",
       "    </tr>\n",
       "    <tr>\n",
       "      <th>1537</th>\n",
       "      <td>51</td>\n",
       "      <td>1766</td>\n",
       "      <td>54276</td>\n",
       "      <td>1</td>\n",
       "      <td>0</td>\n",
       "      <td>1</td>\n",
       "      <td>0</td>\n",
       "    </tr>\n",
       "  </tbody>\n",
       "</table>\n",
       "<p>1538 rows × 7 columns</p>\n",
       "</div>"
      ],
      "text/plain": [
       "      engine_power  age_in_days      km  previous_owners  model_lounge  \\\n",
       "0               51          882   25000                1             1   \n",
       "1               51         1186   32500                1             0   \n",
       "2               74         4658  142228                1             0   \n",
       "3               51         2739  160000                1             1   \n",
       "4               73         3074  106880                1             0   \n",
       "...            ...          ...     ...              ...           ...   \n",
       "1533            51         3712  115280                1             0   \n",
       "1534            74         3835  112000                1             1   \n",
       "1535            51         2223   60457                1             0   \n",
       "1536            51         2557   80750                1             1   \n",
       "1537            51         1766   54276                1             0   \n",
       "\n",
       "      model_pop  model_sport  \n",
       "0             0            0  \n",
       "1             1            0  \n",
       "2             0            1  \n",
       "3             0            0  \n",
       "4             1            0  \n",
       "...         ...          ...  \n",
       "1533          0            1  \n",
       "1534          0            0  \n",
       "1535          1            0  \n",
       "1536          0            0  \n",
       "1537          1            0  \n",
       "\n",
       "[1538 rows x 7 columns]"
      ]
     },
     "execution_count": 21,
     "metadata": {},
     "output_type": "execute_result"
    }
   ],
   "source": [
    "X"
   ]
  },
  {
   "cell_type": "code",
   "execution_count": 22,
   "metadata": {},
   "outputs": [],
   "source": [
    "from sklearn.model_selection import train_test_split\n",
    "X_train, X_test, y_train, y_test = train_test_split(X, y, test_size=0.33,random_state=49) #0.67 data will be for training.\n",
    "\n"
   ]
  },
  {
   "cell_type": "code",
   "execution_count": null,
   "metadata": {},
   "outputs": [],
   "source": []
  },
  {
   "cell_type": "code",
   "execution_count": 23,
   "metadata": {},
   "outputs": [
    {
     "data": {
      "text/html": [
       "<div>\n",
       "<style scoped>\n",
       "    .dataframe tbody tr th:only-of-type {\n",
       "        vertical-align: middle;\n",
       "    }\n",
       "\n",
       "    .dataframe tbody tr th {\n",
       "        vertical-align: top;\n",
       "    }\n",
       "\n",
       "    .dataframe thead th {\n",
       "        text-align: right;\n",
       "    }\n",
       "</style>\n",
       "<table border=\"1\" class=\"dataframe\">\n",
       "  <thead>\n",
       "    <tr style=\"text-align: right;\">\n",
       "      <th></th>\n",
       "      <th>engine_power</th>\n",
       "      <th>age_in_days</th>\n",
       "      <th>km</th>\n",
       "      <th>previous_owners</th>\n",
       "      <th>model_lounge</th>\n",
       "      <th>model_pop</th>\n",
       "      <th>model_sport</th>\n",
       "    </tr>\n",
       "  </thead>\n",
       "  <tbody>\n",
       "    <tr>\n",
       "      <th>776</th>\n",
       "      <td>51</td>\n",
       "      <td>762</td>\n",
       "      <td>17000</td>\n",
       "      <td>1</td>\n",
       "      <td>1</td>\n",
       "      <td>0</td>\n",
       "      <td>0</td>\n",
       "    </tr>\n",
       "    <tr>\n",
       "      <th>487</th>\n",
       "      <td>51</td>\n",
       "      <td>425</td>\n",
       "      <td>20636</td>\n",
       "      <td>1</td>\n",
       "      <td>1</td>\n",
       "      <td>0</td>\n",
       "      <td>0</td>\n",
       "    </tr>\n",
       "    <tr>\n",
       "      <th>1462</th>\n",
       "      <td>62</td>\n",
       "      <td>3470</td>\n",
       "      <td>90000</td>\n",
       "      <td>1</td>\n",
       "      <td>0</td>\n",
       "      <td>1</td>\n",
       "      <td>0</td>\n",
       "    </tr>\n",
       "    <tr>\n",
       "      <th>89</th>\n",
       "      <td>51</td>\n",
       "      <td>397</td>\n",
       "      <td>17912</td>\n",
       "      <td>1</td>\n",
       "      <td>1</td>\n",
       "      <td>0</td>\n",
       "      <td>0</td>\n",
       "    </tr>\n",
       "    <tr>\n",
       "      <th>852</th>\n",
       "      <td>51</td>\n",
       "      <td>1035</td>\n",
       "      <td>33000</td>\n",
       "      <td>1</td>\n",
       "      <td>1</td>\n",
       "      <td>0</td>\n",
       "      <td>0</td>\n",
       "    </tr>\n",
       "  </tbody>\n",
       "</table>\n",
       "</div>"
      ],
      "text/plain": [
       "      engine_power  age_in_days     km  previous_owners  model_lounge  \\\n",
       "776             51          762  17000                1             1   \n",
       "487             51          425  20636                1             1   \n",
       "1462            62         3470  90000                1             0   \n",
       "89              51          397  17912                1             1   \n",
       "852             51         1035  33000                1             1   \n",
       "\n",
       "      model_pop  model_sport  \n",
       "776           0            0  \n",
       "487           0            0  \n",
       "1462          1            0  \n",
       "89            0            0  \n",
       "852           0            0  "
      ]
     },
     "execution_count": 23,
     "metadata": {},
     "output_type": "execute_result"
    }
   ],
   "source": [
    "X_test.head(5)"
   ]
  },
  {
   "cell_type": "code",
   "execution_count": 24,
   "metadata": {},
   "outputs": [
    {
     "data": {
      "text/plain": [
       "(1030, 7)"
      ]
     },
     "execution_count": 24,
     "metadata": {},
     "output_type": "execute_result"
    }
   ],
   "source": [
    "X_train.shape"
   ]
  },
  {
   "cell_type": "code",
   "execution_count": 25,
   "metadata": {},
   "outputs": [
    {
     "data": {
      "text/plain": [
       "(1030,)"
      ]
     },
     "execution_count": 25,
     "metadata": {},
     "output_type": "execute_result"
    }
   ],
   "source": [
    "y_train.shape"
   ]
  },
  {
   "cell_type": "code",
   "execution_count": 26,
   "metadata": {},
   "outputs": [
    {
     "data": {
      "text/html": [
       "<style>#sk-container-id-1 {color: black;}#sk-container-id-1 pre{padding: 0;}#sk-container-id-1 div.sk-toggleable {background-color: white;}#sk-container-id-1 label.sk-toggleable__label {cursor: pointer;display: block;width: 100%;margin-bottom: 0;padding: 0.3em;box-sizing: border-box;text-align: center;}#sk-container-id-1 label.sk-toggleable__label-arrow:before {content: \"▸\";float: left;margin-right: 0.25em;color: #696969;}#sk-container-id-1 label.sk-toggleable__label-arrow:hover:before {color: black;}#sk-container-id-1 div.sk-estimator:hover label.sk-toggleable__label-arrow:before {color: black;}#sk-container-id-1 div.sk-toggleable__content {max-height: 0;max-width: 0;overflow: hidden;text-align: left;background-color: #f0f8ff;}#sk-container-id-1 div.sk-toggleable__content pre {margin: 0.2em;color: black;border-radius: 0.25em;background-color: #f0f8ff;}#sk-container-id-1 input.sk-toggleable__control:checked~div.sk-toggleable__content {max-height: 200px;max-width: 100%;overflow: auto;}#sk-container-id-1 input.sk-toggleable__control:checked~label.sk-toggleable__label-arrow:before {content: \"▾\";}#sk-container-id-1 div.sk-estimator input.sk-toggleable__control:checked~label.sk-toggleable__label {background-color: #d4ebff;}#sk-container-id-1 div.sk-label input.sk-toggleable__control:checked~label.sk-toggleable__label {background-color: #d4ebff;}#sk-container-id-1 input.sk-hidden--visually {border: 0;clip: rect(1px 1px 1px 1px);clip: rect(1px, 1px, 1px, 1px);height: 1px;margin: -1px;overflow: hidden;padding: 0;position: absolute;width: 1px;}#sk-container-id-1 div.sk-estimator {font-family: monospace;background-color: #f0f8ff;border: 1px dotted black;border-radius: 0.25em;box-sizing: border-box;margin-bottom: 0.5em;}#sk-container-id-1 div.sk-estimator:hover {background-color: #d4ebff;}#sk-container-id-1 div.sk-parallel-item::after {content: \"\";width: 100%;border-bottom: 1px solid gray;flex-grow: 1;}#sk-container-id-1 div.sk-label:hover label.sk-toggleable__label {background-color: #d4ebff;}#sk-container-id-1 div.sk-serial::before {content: \"\";position: absolute;border-left: 1px solid gray;box-sizing: border-box;top: 0;bottom: 0;left: 50%;z-index: 0;}#sk-container-id-1 div.sk-serial {display: flex;flex-direction: column;align-items: center;background-color: white;padding-right: 0.2em;padding-left: 0.2em;position: relative;}#sk-container-id-1 div.sk-item {position: relative;z-index: 1;}#sk-container-id-1 div.sk-parallel {display: flex;align-items: stretch;justify-content: center;background-color: white;position: relative;}#sk-container-id-1 div.sk-item::before, #sk-container-id-1 div.sk-parallel-item::before {content: \"\";position: absolute;border-left: 1px solid gray;box-sizing: border-box;top: 0;bottom: 0;left: 50%;z-index: -1;}#sk-container-id-1 div.sk-parallel-item {display: flex;flex-direction: column;z-index: 1;position: relative;background-color: white;}#sk-container-id-1 div.sk-parallel-item:first-child::after {align-self: flex-end;width: 50%;}#sk-container-id-1 div.sk-parallel-item:last-child::after {align-self: flex-start;width: 50%;}#sk-container-id-1 div.sk-parallel-item:only-child::after {width: 0;}#sk-container-id-1 div.sk-dashed-wrapped {border: 1px dashed gray;margin: 0 0.4em 0.5em 0.4em;box-sizing: border-box;padding-bottom: 0.4em;background-color: white;}#sk-container-id-1 div.sk-label label {font-family: monospace;font-weight: bold;display: inline-block;line-height: 1.2em;}#sk-container-id-1 div.sk-label-container {text-align: center;}#sk-container-id-1 div.sk-container {/* jupyter's `normalize.less` sets `[hidden] { display: none; }` but bootstrap.min.css set `[hidden] { display: none !important; }` so we also need the `!important` here to be able to override the default hidden behavior on the sphinx rendered scikit-learn.org. See: https://github.com/scikit-learn/scikit-learn/issues/21755 */display: inline-block !important;position: relative;}#sk-container-id-1 div.sk-text-repr-fallback {display: none;}</style><div id=\"sk-container-id-1\" class=\"sk-top-container\"><div class=\"sk-text-repr-fallback\"><pre>LinearRegression()</pre><b>In a Jupyter environment, please rerun this cell to show the HTML representation or trust the notebook. <br />On GitHub, the HTML representation is unable to render, please try loading this page with nbviewer.org.</b></div><div class=\"sk-container\" hidden><div class=\"sk-item\"><div class=\"sk-estimator sk-toggleable\"><input class=\"sk-toggleable__control sk-hidden--visually\" id=\"sk-estimator-id-1\" type=\"checkbox\" checked><label for=\"sk-estimator-id-1\" class=\"sk-toggleable__label sk-toggleable__label-arrow\">LinearRegression</label><div class=\"sk-toggleable__content\"><pre>LinearRegression()</pre></div></div></div></div></div>"
      ],
      "text/plain": [
       "LinearRegression()"
      ]
     },
     "execution_count": 26,
     "metadata": {},
     "output_type": "execute_result"
    }
   ],
   "source": [
    "\n",
    "\n",
    "\n",
    "\n",
    "from sklearn.linear_model import LinearRegression\n",
    "reg = LinearRegression() \n",
    "reg.fit(X_train,y_train) "
   ]
  },
  {
   "cell_type": "code",
   "execution_count": 27,
   "metadata": {},
   "outputs": [],
   "source": [
    "ypred=reg.predict(X_test) "
   ]
  },
  {
   "cell_type": "code",
   "execution_count": 28,
   "metadata": {},
   "outputs": [
    {
     "data": {
      "text/plain": [
       "array([10077.0486545 , 10296.89113709,  6231.54053645, 10371.87050424,\n",
       "        9543.8908106 , 10311.36861938,  8883.57598947,  7157.79300792,\n",
       "        9944.27338867, 10426.6142839 ,  9912.02921839,  7492.70862718,\n",
       "        9882.00387912,  6645.64608231, 10333.80213676,  8020.94888715,\n",
       "       10228.57854658, 10530.25049259,  9188.10296552,  8658.91690616,\n",
       "        7685.86894274,  9410.15189019,  8825.54005856,  9911.92508766,\n",
       "       10103.04304765,  6699.79552359,  6254.1941181 ,  6353.64026044,\n",
       "        4685.57678728, 10147.55738739,  9412.7006505 ,  4999.96883869,\n",
       "        9396.11094252,  9701.00047514,  8245.07179202,  7014.74657124,\n",
       "        9855.0499626 ,  8022.65546956,  6202.74656775, 10387.44465039,\n",
       "        7477.65149429,  6555.14982661, 10368.68963757,  5057.57213783,\n",
       "        9652.3799067 ,  9312.51608202,  8642.27980214,  9966.91032444,\n",
       "        5663.75605319,  7526.68879785,  4958.61357652,  9346.67438618,\n",
       "       10022.93146835, 10140.06080681,  6436.7985707 ,  5851.7441137 ,\n",
       "        6827.22453472,  9850.66079486,  9880.32481877, 10437.9205592 ,\n",
       "        9556.18602801,  7858.22024074, 10284.19351479, 10377.9052516 ,\n",
       "        9964.8785774 ,  6982.85702955,  7664.86130973,  5224.84497605,\n",
       "       10013.44733777,  6661.7812147 ,  5396.11965442,  6361.46202604,\n",
       "        4401.88640849,  9772.32940609,  7414.07382234,  8897.76480227,\n",
       "        5273.593021  ,  7056.67723507,  6741.4936419 ,  7918.05381693,\n",
       "        5262.41488583,  6877.92504811,  6228.69809605,  8148.13997191,\n",
       "        7263.5409503 ,  7473.63513447,  9826.20224457,  8897.76480227,\n",
       "        9557.98317895,  9012.11120767, 10433.53601571,  6920.74758333,\n",
       "        7936.69809147,  7795.72328257,  9622.06761789,  9945.83776355,\n",
       "        9101.23004767,  8550.37389002,  9752.79218725,  6675.66063548,\n",
       "        5707.55785515,  9036.4887014 ,  9427.66803929,  9664.73672275,\n",
       "       10359.44492193, 10333.80213676, 10426.38938649, 10273.40271038,\n",
       "        8580.6495184 , 10245.37375553,  9460.08517598,  6903.0439201 ,\n",
       "        7759.02278758,  6308.83085321,  9973.98520286, 10182.60390159,\n",
       "        9311.53993102, 10312.75644294,  5084.71810292,  4206.10307695,\n",
       "       10375.87209307,  7835.20847593,  9829.10883449, 10071.04691043,\n",
       "        5449.23018415,  9662.94272348,  9702.35081579,  7467.37810164,\n",
       "        9501.86990917, 10369.86516893,  9101.74172436, 10023.162502  ,\n",
       "        4495.56790401,  8825.05826205,  9936.74106722,  7019.45945617,\n",
       "        9742.69668115,  9624.59771383,  4414.21892378, 10054.21095081,\n",
       "        6714.78810684,  9920.31907615,  9370.70092693,  6575.63342387,\n",
       "        6274.9133057 , 10281.46692255, 10340.50467635,  9116.64181116,\n",
       "        6948.55023069,  6980.50146676, 10124.22428034,  6866.52382434,\n",
       "       10509.16129574, 10151.68050671,  7005.03051233,  6153.8725305 ,\n",
       "       10065.98671854,  8797.24151621, 10560.73777011, 10369.1019495 ,\n",
       "        7726.96172248,  8635.11704424,  9644.45626512,  6394.57209121,\n",
       "        9932.73947838,  9811.65908623,  9762.77076504, 10358.00701025,\n",
       "        7139.13858818,  5029.24520368,  9100.61157977,  9880.51223329,\n",
       "        7939.71080918, 10384.27734509,  6683.49610315,  9952.09748542,\n",
       "        8842.70722808, 10076.08657336,  9912.93693368, 10357.28517541,\n",
       "        6365.74719808,  7171.88810656,  8060.13837244,  8250.76388839,\n",
       "        6787.4466476 ,  9739.00660461,  9969.09789418,  9789.77719657,\n",
       "        9495.26479954, 10339.08722606,  6625.36952009,  7061.57841357,\n",
       "        9623.64189981,  6921.78496788,  3232.37870456,  9398.0554513 ,\n",
       "        9952.09748542,  8484.3127639 , 10307.57376441, 10265.72223874,\n",
       "       10578.36841841,  9820.47370464,  9952.09748542, 10248.76122518,\n",
       "        8821.39177649,  9734.29142913, 10031.45588321,  9931.61250109,\n",
       "       10379.81687965,  7708.65477476,  9791.21369676, 10064.18293703,\n",
       "        9436.0295791 , 10487.04638303,  4829.05570411,  6049.1016172 ,\n",
       "       10090.60390397,  4256.46791286,  8048.81596848,  7254.09460377,\n",
       "        8691.08558652,  7015.36320392,  4565.8697124 ,  6537.07872561,\n",
       "        9763.71845344,  7358.30746556,  5390.16165428,  7299.4887424 ,\n",
       "       10204.74382286,  8559.91112305,  9791.21369676, 10440.32854676,\n",
       "        9252.31565776, 10291.62478924,  9111.77816936,  8083.26519264,\n",
       "        9952.09748542,  9625.1922602 ,  5447.67746443,  9880.27485544,\n",
       "        9782.22439163,  9503.91964339,  6434.64936292,  9644.45626512,\n",
       "        7099.76674587, 10502.1894758 ,  8699.65825429, 10337.99114011,\n",
       "       10348.65316137,  6964.73698525,  6148.81405855,  9012.11120767,\n",
       "        6436.17574567,  8825.54005856, 10353.63154853,  9643.49204243,\n",
       "        9952.09748542,  6948.39355333, 10581.4032754 ,  6752.3282492 ,\n",
       "        5509.92811393, 10453.58841261,  5626.50283578,  9992.28093873,\n",
       "       10248.70500083,  5428.71684814,  6738.66197155,  6716.0887264 ,\n",
       "        7754.28298788,  4756.91807609,  4603.09010115,  9343.94440138,\n",
       "       10167.73853803,  8656.5851236 , 10404.97756716, 10298.56820804,\n",
       "       10491.35691687,  9037.61832309, 10151.05237913,  5114.62804797,\n",
       "        9872.52497631,  9841.51127284,  9820.82071044, 10102.57790392,\n",
       "        9063.50180159,  6798.87443119,  9267.77582114, 10133.96318853,\n",
       "        9999.5061881 ,  8565.19548027,  7722.12567984, 10055.36479518,\n",
       "        9712.98534438,  7611.7711265 , 10395.12607818,  9620.19347274,\n",
       "        9398.9675153 , 10369.95439659,  9775.03622363,  9593.02752701,\n",
       "        7201.09750911,  9662.68748325,  4847.46205228,  6477.93510047,\n",
       "       10122.29051828,  9930.32823682,  9313.67355864,  5895.44822231,\n",
       "        9048.63348639,  9863.08716305,  6727.69792206,  6512.6845661 ,\n",
       "        5957.29501208,  5191.95679688,  8542.59963404,  9688.85875217,\n",
       "        5850.20848648,  9977.62429844,  9682.0422519 , 10185.40111091,\n",
       "        9704.82543556,  9799.8616315 , 10243.13878975,  6794.12141897,\n",
       "        8314.39015989,  7762.96669509,  9742.69668115,  4332.51396391,\n",
       "       10512.71079189, 10465.4840542 , 10112.91071079,  9912.02921839,\n",
       "       10405.83001425, 10482.72618952,  7868.62760577,  9677.85573876,\n",
       "       10452.93694141,  6334.25148463, 10395.32124007,  7925.92062132,\n",
       "        7686.86804535,  9989.14676763,  6910.58754398,  9904.74787555,\n",
       "        9925.10262587,  5769.52460242,  4747.64113472,  6678.45970331,\n",
       "        9997.75645567,  9977.82079473,  9894.03589094, 10244.83646675,\n",
       "       10359.41261911, 10077.18502473, 10155.56395642,  9844.41006158,\n",
       "        9671.63971311,  8846.10235163,  6707.97759632,  8663.72211126,\n",
       "       10395.12607818,  9756.49947118, 10527.82548352,  8389.29199393,\n",
       "        5680.6830438 ,  7682.91650384, 10226.09501531, 10395.39620588,\n",
       "        6511.28708977,  4368.05713248, 10291.94339391,  9237.16308169,\n",
       "       10406.76536688, 10358.00701025,  6463.65823191, 10260.36691668,\n",
       "       10546.64419862, 10341.1209625 ,  8441.73935569,  5620.43361035,\n",
       "        9742.06913148, 10432.28846409,  9898.57368152,  6687.31099545,\n",
       "        5449.30701456,  9662.27275819,  7388.84124404,  8872.79965489,\n",
       "        8785.05852344,  7720.78580083,  9269.41043103,  9046.45122031,\n",
       "        9723.11282054,  9850.64744146, 10183.79170541,  5082.22786482,\n",
       "        4829.05570411,  9716.32944836,  7935.96816077, 10468.57191408,\n",
       "        7220.86489162,  6132.1047393 ,  5679.60112901,  9880.27485544,\n",
       "        6932.31134191, 10164.44004258,  7309.61717471,  6448.30264497,\n",
       "        9930.40396642,  9510.27299543, 10073.48329912,  9750.04677648,\n",
       "       10353.35395021,  6321.31286784,  7711.80067415,  5725.13591781,\n",
       "       10062.05549334,  9937.48010945,  7075.16435472,  9762.09760684,\n",
       "        8920.1484395 ,  7347.44629752,  6773.49287052,  4289.71938476,\n",
       "        6587.8866172 , 10322.78216331,  8602.2243167 ,  9641.29634707,\n",
       "        4991.00005762, 10394.7680783 ,  5477.10493576,  9318.99339328,\n",
       "        8969.98448728, 10054.81067725,  9027.45307896,  7810.04203451,\n",
       "        9066.51469567,  7959.99454088,  9851.71570419, 10470.01040367,\n",
       "       10413.55885407,  7714.59974198,  9612.57926338,  9966.27606064,\n",
       "        9414.81272201,  9741.77374786,  4781.84518595,  8523.48845655,\n",
       "        6275.16403695,  9821.85149027,  8040.51167027,  7118.32222368,\n",
       "       10002.08284872,  8100.67364171,  5884.01603011,  8531.33485759,\n",
       "        9816.35058532,  9037.0576136 ,  9488.6399785 ,  7114.18236839,\n",
       "       10350.77728959,  9878.79909092, 10353.7850036 ,  9383.86555836,\n",
       "        7525.1903001 ,  6598.97578895,  8933.03394775, 10132.83038346,\n",
       "        9871.62264908, 10090.63959936,  9108.26732791,  9171.65615057,\n",
       "        5928.70196285,  5598.4103406 ,  9722.5683623 ,  4476.21769815,\n",
       "        3280.24241805,  9905.33852022,  9536.10050303, 10047.31563073,\n",
       "        6583.25056268, 10140.95700392,  8756.70270741,  6762.15097693,\n",
       "        9715.7748751 ,  9577.97338515,  9712.28378506,  8334.56952302,\n",
       "        9810.06606286, 10364.14902624,  9058.14123004,  8834.05672604,\n",
       "       10165.81156109,  9780.46422926,  9702.35081579,  6519.29507068,\n",
       "        9836.19164617, 10022.35048335,  9724.61470396,  9913.73315641,\n",
       "        7849.13469923, 10488.45199189,  7745.18732479,  8388.7875088 ,\n",
       "       10322.537953  ,  7570.91612614,  9239.03071235, 10439.86449007])"
      ]
     },
     "execution_count": 28,
     "metadata": {},
     "output_type": "execute_result"
    }
   ],
   "source": [
    "ypred"
   ]
  },
  {
   "cell_type": "code",
   "execution_count": 29,
   "metadata": {},
   "outputs": [],
   "source": [
    "filename='model'\n",
    "pickle.dump(reg,open(filename,'wb'))"
   ]
  },
  {
   "cell_type": "code",
   "execution_count": 30,
   "metadata": {},
   "outputs": [
    {
     "data": {
      "text/plain": [
       "0.843287174399413"
      ]
     },
     "execution_count": 30,
     "metadata": {},
     "output_type": "execute_result"
    }
   ],
   "source": [
    "from sklearn.metrics import r2_score\n",
    "r2_score(y_test,ypred)"
   ]
  },
  {
   "cell_type": "code",
   "execution_count": 31,
   "metadata": {},
   "outputs": [
    {
     "data": {
      "text/plain": [
       "577671.028105801"
      ]
     },
     "execution_count": 31,
     "metadata": {},
     "output_type": "execute_result"
    }
   ],
   "source": [
    "from sklearn.metrics import mean_squared_error \n",
    "mean_squared_error(ypred,y_test)"
   ]
  },
  {
   "cell_type": "code",
   "execution_count": 32,
   "metadata": {},
   "outputs": [
    {
     "data": {
      "text/html": [
       "<div>\n",
       "<style scoped>\n",
       "    .dataframe tbody tr th:only-of-type {\n",
       "        vertical-align: middle;\n",
       "    }\n",
       "\n",
       "    .dataframe tbody tr th {\n",
       "        vertical-align: top;\n",
       "    }\n",
       "\n",
       "    .dataframe thead th {\n",
       "        text-align: right;\n",
       "    }\n",
       "</style>\n",
       "<table border=\"1\" class=\"dataframe\">\n",
       "  <thead>\n",
       "    <tr style=\"text-align: right;\">\n",
       "      <th></th>\n",
       "      <th>index</th>\n",
       "      <th>Price</th>\n",
       "      <th>Predicted</th>\n",
       "      <th>Id</th>\n",
       "    </tr>\n",
       "  </thead>\n",
       "  <tbody>\n",
       "    <tr>\n",
       "      <th>0</th>\n",
       "      <td>776</td>\n",
       "      <td>9850</td>\n",
       "      <td>10077.048654</td>\n",
       "      <td>0</td>\n",
       "    </tr>\n",
       "    <tr>\n",
       "      <th>1</th>\n",
       "      <td>487</td>\n",
       "      <td>10650</td>\n",
       "      <td>10296.891137</td>\n",
       "      <td>1</td>\n",
       "    </tr>\n",
       "    <tr>\n",
       "      <th>2</th>\n",
       "      <td>1462</td>\n",
       "      <td>5199</td>\n",
       "      <td>6231.540536</td>\n",
       "      <td>2</td>\n",
       "    </tr>\n",
       "    <tr>\n",
       "      <th>3</th>\n",
       "      <td>89</td>\n",
       "      <td>9970</td>\n",
       "      <td>10371.870504</td>\n",
       "      <td>3</td>\n",
       "    </tr>\n",
       "    <tr>\n",
       "      <th>4</th>\n",
       "      <td>852</td>\n",
       "      <td>9999</td>\n",
       "      <td>9543.890811</td>\n",
       "      <td>4</td>\n",
       "    </tr>\n",
       "    <tr>\n",
       "      <th>5</th>\n",
       "      <td>12</td>\n",
       "      <td>9700</td>\n",
       "      <td>10311.368619</td>\n",
       "      <td>5</td>\n",
       "    </tr>\n",
       "    <tr>\n",
       "      <th>6</th>\n",
       "      <td>353</td>\n",
       "      <td>8900</td>\n",
       "      <td>8883.575989</td>\n",
       "      <td>6</td>\n",
       "    </tr>\n",
       "    <tr>\n",
       "      <th>7</th>\n",
       "      <td>76</td>\n",
       "      <td>7900</td>\n",
       "      <td>7157.793008</td>\n",
       "      <td>7</td>\n",
       "    </tr>\n",
       "    <tr>\n",
       "      <th>8</th>\n",
       "      <td>633</td>\n",
       "      <td>8900</td>\n",
       "      <td>9944.273389</td>\n",
       "      <td>8</td>\n",
       "    </tr>\n",
       "    <tr>\n",
       "      <th>9</th>\n",
       "      <td>181</td>\n",
       "      <td>10950</td>\n",
       "      <td>10426.614284</td>\n",
       "      <td>9</td>\n",
       "    </tr>\n",
       "    <tr>\n",
       "      <th>10</th>\n",
       "      <td>1111</td>\n",
       "      <td>10800</td>\n",
       "      <td>9912.029218</td>\n",
       "      <td>10</td>\n",
       "    </tr>\n",
       "    <tr>\n",
       "      <th>11</th>\n",
       "      <td>368</td>\n",
       "      <td>5990</td>\n",
       "      <td>7492.708627</td>\n",
       "      <td>11</td>\n",
       "    </tr>\n",
       "    <tr>\n",
       "      <th>12</th>\n",
       "      <td>1298</td>\n",
       "      <td>9400</td>\n",
       "      <td>9882.003879</td>\n",
       "      <td>12</td>\n",
       "    </tr>\n",
       "    <tr>\n",
       "      <th>13</th>\n",
       "      <td>1361</td>\n",
       "      <td>7490</td>\n",
       "      <td>6645.646082</td>\n",
       "      <td>13</td>\n",
       "    </tr>\n",
       "    <tr>\n",
       "      <th>14</th>\n",
       "      <td>713</td>\n",
       "      <td>9890</td>\n",
       "      <td>10333.802137</td>\n",
       "      <td>14</td>\n",
       "    </tr>\n",
       "  </tbody>\n",
       "</table>\n",
       "</div>"
      ],
      "text/plain": [
       "    index  Price     Predicted  Id\n",
       "0     776   9850  10077.048654   0\n",
       "1     487  10650  10296.891137   1\n",
       "2    1462   5199   6231.540536   2\n",
       "3      89   9970  10371.870504   3\n",
       "4     852   9999   9543.890811   4\n",
       "5      12   9700  10311.368619   5\n",
       "6     353   8900   8883.575989   6\n",
       "7      76   7900   7157.793008   7\n",
       "8     633   8900   9944.273389   8\n",
       "9     181  10950  10426.614284   9\n",
       "10   1111  10800   9912.029218  10\n",
       "11    368   5990   7492.708627  11\n",
       "12   1298   9400   9882.003879  12\n",
       "13   1361   7490   6645.646082  13\n",
       "14    713   9890  10333.802137  14"
      ]
     },
     "execution_count": 32,
     "metadata": {},
     "output_type": "execute_result"
    }
   ],
   "source": [
    "\n",
    "Results= a.DataFrame(columns=['Price','Predicted'])\n",
    "Results['Price']=y_test\n",
    "Results['Predicted']=ypred\n",
    "\n",
    "Results=Results.reset_index()\n",
    "Results['Id']=Results.index\n",
    "Results.head(15)"
   ]
  },
  {
   "cell_type": "code",
   "execution_count": 33,
   "metadata": {},
   "outputs": [
    {
     "data": {
      "text/plain": [
       "[]"
      ]
     },
     "execution_count": 33,
     "metadata": {},
     "output_type": "execute_result"
    },
    {
     "data": {
      "image/png": "[encoded data removed]",
      "text/plain": [
       "<Figure size 432x288 with 1 Axes>"
      ]
     },
     "metadata": {
      "needs_background": "light"
     },
     "output_type": "display_data"
    }
   ],
   "source": [
    "import seaborn as sns\n",
    "import matplotlib.pyplot as plt\n",
    "sns.lineplot(x='Id',y='Price',data=Results.head(50))\n",
    "sns.lineplot(x='Id',y='Predicted',data=Results.head(50))\n",
    "plt.plot()"
   ]
  },
  {
   "cell_type": "code",
   "execution_count": 34,
   "metadata": {},
   "outputs": [
    {
     "data": {
      "text/plain": [
       "[]"
      ]
     },
     "execution_count": 34,
     "metadata": {},
     "output_type": "execute_result"
    },
    {
     "data": {
      "image/png": "[encoded data removed]",
      "text/plain": [
       "<Figure size 432x288 with 1 Axes>"
      ]
     },
     "metadata": {
      "needs_background": "light"
     },
     "output_type": "display_data"
    }
   ],
   "source": [
    "import seaborn as sns\n",
    "import matplotlib.pyplot as plt\n",
    "\n",
    "sns.lineplot(x='Id',y='Price',data=Results.tail(50))\n",
    "sns.lineplot(x='Id',y='Predicted',data=Results.tail(50))\n",
    "plt.plot()"
   ]
  },
  {
   "cell_type": "markdown",
   "metadata": {},
   "source": [
    "# this is for prediction of a new veicle with spec"
   ]
  },
  {
   "cell_type": "code",
   "execution_count": 35,
   "metadata": {},
   "outputs": [],
   "source": [
    "new=[[51,2197,70000,1,1,0,0]]"
   ]
  },
  {
   "cell_type": "code",
   "execution_count": 36,
   "metadata": {},
   "outputs": [],
   "source": [
    "real=reg.predict(new)"
   ]
  },
  {
   "cell_type": "code",
   "execution_count": 37,
   "metadata": {},
   "outputs": [
    {
     "data": {
      "text/plain": [
       "array([7857.45949044])"
      ]
     },
     "execution_count": 37,
     "metadata": {},
     "output_type": "execute_result"
    }
   ],
   "source": [
    "real"
   ]
  },
  {
   "cell_type": "code",
   "execution_count": 38,
   "metadata": {},
   "outputs": [
    {
     "data": {
      "text/html": [
       "<style>#sk-container-id-2 {color: black;}#sk-container-id-2 pre{padding: 0;}#sk-container-id-2 div.sk-toggleable {background-color: white;}#sk-container-id-2 label.sk-toggleable__label {cursor: pointer;display: block;width: 100%;margin-bottom: 0;padding: 0.3em;box-sizing: border-box;text-align: center;}#sk-container-id-2 label.sk-toggleable__label-arrow:before {content: \"▸\";float: left;margin-right: 0.25em;color: #696969;}#sk-container-id-2 label.sk-toggleable__label-arrow:hover:before {color: black;}#sk-container-id-2 div.sk-estimator:hover label.sk-toggleable__label-arrow:before {color: black;}#sk-container-id-2 div.sk-toggleable__content {max-height: 0;max-width: 0;overflow: hidden;text-align: left;background-color: #f0f8ff;}#sk-container-id-2 div.sk-toggleable__content pre {margin: 0.2em;color: black;border-radius: 0.25em;background-color: #f0f8ff;}#sk-container-id-2 input.sk-toggleable__control:checked~div.sk-toggleable__content {max-height: 200px;max-width: 100%;overflow: auto;}#sk-container-id-2 input.sk-toggleable__control:checked~label.sk-toggleable__label-arrow:before {content: \"▾\";}#sk-container-id-2 div.sk-estimator input.sk-toggleable__control:checked~label.sk-toggleable__label {background-color: #d4ebff;}#sk-container-id-2 div.sk-label input.sk-toggleable__control:checked~label.sk-toggleable__label {background-color: #d4ebff;}#sk-container-id-2 input.sk-hidden--visually {border: 0;clip: rect(1px 1px 1px 1px);clip: rect(1px, 1px, 1px, 1px);height: 1px;margin: -1px;overflow: hidden;padding: 0;position: absolute;width: 1px;}#sk-container-id-2 div.sk-estimator {font-family: monospace;background-color: #f0f8ff;border: 1px dotted black;border-radius: 0.25em;box-sizing: border-box;margin-bottom: 0.5em;}#sk-container-id-2 div.sk-estimator:hover {background-color: #d4ebff;}#sk-container-id-2 div.sk-parallel-item::after {content: \"\";width: 100%;border-bottom: 1px solid gray;flex-grow: 1;}#sk-container-id-2 div.sk-label:hover label.sk-toggleable__label {background-color: #d4ebff;}#sk-container-id-2 div.sk-serial::before {content: \"\";position: absolute;border-left: 1px solid gray;box-sizing: border-box;top: 0;bottom: 0;left: 50%;z-index: 0;}#sk-container-id-2 div.sk-serial {display: flex;flex-direction: column;align-items: center;background-color: white;padding-right: 0.2em;padding-left: 0.2em;position: relative;}#sk-container-id-2 div.sk-item {position: relative;z-index: 1;}#sk-container-id-2 div.sk-parallel {display: flex;align-items: stretch;justify-content: center;background-color: white;position: relative;}#sk-container-id-2 div.sk-item::before, #sk-container-id-2 div.sk-parallel-item::before {content: \"\";position: absolute;border-left: 1px solid gray;box-sizing: border-box;top: 0;bottom: 0;left: 50%;z-index: -1;}#sk-container-id-2 div.sk-parallel-item {display: flex;flex-direction: column;z-index: 1;position: relative;background-color: white;}#sk-container-id-2 div.sk-parallel-item:first-child::after {align-self: flex-end;width: 50%;}#sk-container-id-2 div.sk-parallel-item:last-child::after {align-self: flex-start;width: 50%;}#sk-container-id-2 div.sk-parallel-item:only-child::after {width: 0;}#sk-container-id-2 div.sk-dashed-wrapped {border: 1px dashed gray;margin: 0 0.4em 0.5em 0.4em;box-sizing: border-box;padding-bottom: 0.4em;background-color: white;}#sk-container-id-2 div.sk-label label {font-family: monospace;font-weight: bold;display: inline-block;line-height: 1.2em;}#sk-container-id-2 div.sk-label-container {text-align: center;}#sk-container-id-2 div.sk-container {/* jupyter's `normalize.less` sets `[hidden] { display: none; }` but bootstrap.min.css set `[hidden] { display: none !important; }` so we also need the `!important` here to be able to override the default hidden behavior on the sphinx rendered scikit-learn.org. See: https://github.com/scikit-learn/scikit-learn/issues/21755 */display: inline-block !important;position: relative;}#sk-container-id-2 div.sk-text-repr-fallback {display: none;}</style><div id=\"sk-container-id-2\" class=\"sk-top-container\"><div class=\"sk-text-repr-fallback\"><pre>GridSearchCV(estimator=Ridge(),\n",
       "             param_grid={&#x27;alpha&#x27;: [1e-15, 1e-10, 1e-08, 0.0001, 0.001, 0.01, 1,\n",
       "                                   5, 10, 20, 30]})</pre><b>In a Jupyter environment, please rerun this cell to show the HTML representation or trust the notebook. <br />On GitHub, the HTML representation is unable to render, please try loading this page with nbviewer.org.</b></div><div class=\"sk-container\" hidden><div class=\"sk-item sk-dashed-wrapped\"><div class=\"sk-label-container\"><div class=\"sk-label sk-toggleable\"><input class=\"sk-toggleable__control sk-hidden--visually\" id=\"sk-estimator-id-2\" type=\"checkbox\" ><label for=\"sk-estimator-id-2\" class=\"sk-toggleable__label sk-toggleable__label-arrow\">GridSearchCV</label><div class=\"sk-toggleable__content\"><pre>GridSearchCV(estimator=Ridge(),\n",
       "             param_grid={&#x27;alpha&#x27;: [1e-15, 1e-10, 1e-08, 0.0001, 0.001, 0.01, 1,\n",
       "                                   5, 10, 20, 30]})</pre></div></div></div><div class=\"sk-parallel\"><div class=\"sk-parallel-item\"><div class=\"sk-item\"><div class=\"sk-label-container\"><div class=\"sk-label sk-toggleable\"><input class=\"sk-toggleable__control sk-hidden--visually\" id=\"sk-estimator-id-3\" type=\"checkbox\" ><label for=\"sk-estimator-id-3\" class=\"sk-toggleable__label sk-toggleable__label-arrow\">estimator: Ridge</label><div class=\"sk-toggleable__content\"><pre>Ridge()</pre></div></div></div><div class=\"sk-serial\"><div class=\"sk-item\"><div class=\"sk-estimator sk-toggleable\"><input class=\"sk-toggleable__control sk-hidden--visually\" id=\"sk-estimator-id-4\" type=\"checkbox\" ><label for=\"sk-estimator-id-4\" class=\"sk-toggleable__label sk-toggleable__label-arrow\">Ridge</label><div class=\"sk-toggleable__content\"><pre>Ridge()</pre></div></div></div></div></div></div></div></div></div></div>"
      ],
      "text/plain": [
       "GridSearchCV(estimator=Ridge(),\n",
       "             param_grid={'alpha': [1e-15, 1e-10, 1e-08, 0.0001, 0.001, 0.01, 1,\n",
       "                                   5, 10, 20, 30]})"
      ]
     },
     "execution_count": 38,
     "metadata": {},
     "output_type": "execute_result"
    }
   ],
   "source": [
    "from sklearn.model_selection import GridSearchCV\n",
    "\n",
    "\n",
    "\n",
    "from sklearn.linear_model import Ridge\n",
    "\n",
    "alpha = [1e-15, 1e-10, 1e-8, 1e-4, 1e-3,1e-2, 1, 5, 10, 20,30]\n",
    "\n",
    "ridge = Ridge()\n",
    "\n",
    "parameters = {'alpha': alpha}\n",
    "\n",
    "ridge_regressor = GridSearchCV(ridge, parameters)\n",
    "\n",
    "ridge_regressor.fit(X_train, y_train)"
   ]
  },
  {
   "cell_type": "code",
   "execution_count": 39,
   "metadata": {},
   "outputs": [
    {
     "data": {
      "text/plain": [
       "{'alpha': 30}"
      ]
     },
     "execution_count": 39,
     "metadata": {},
     "output_type": "execute_result"
    }
   ],
   "source": [
    "ridge_regressor.best_params_"
   ]
  },
  {
   "cell_type": "code",
   "execution_count": 40,
   "metadata": {},
   "outputs": [],
   "source": [
    "ridge=Ridge(alpha=30)\n",
    "ridge.fit(X_train,y_train)\n",
    "y_pred_ridge=ridge.predict(X_test)"
   ]
  },
  {
   "cell_type": "code",
   "execution_count": 41,
   "metadata": {},
   "outputs": [
    {
     "data": {
      "text/plain": [
       "578069.1348754482"
      ]
     },
     "execution_count": 41,
     "metadata": {},
     "output_type": "execute_result"
    }
   ],
   "source": [
    "from sklearn.metrics import mean_squared_error\n",
    "Ridge_Error=mean_squared_error(y_pred_ridge,y_test)\n",
    "Ridge_Error"
   ]
  },
  {
   "cell_type": "code",
   "execution_count": 42,
   "metadata": {},
   "outputs": [
    {
     "data": {
      "text/plain": [
       "0.8431791744587432"
      ]
     },
     "execution_count": 42,
     "metadata": {},
     "output_type": "execute_result"
    }
   ],
   "source": [
    "from sklearn.metrics import r2_score\n",
    "r2_score(y_test,y_pred_ridge)\n"
   ]
  },
  {
   "cell_type": "code",
   "execution_count": 43,
   "metadata": {},
   "outputs": [
    {
     "data": {
      "text/html": [
       "<div>\n",
       "<style scoped>\n",
       "    .dataframe tbody tr th:only-of-type {\n",
       "        vertical-align: middle;\n",
       "    }\n",
       "\n",
       "    .dataframe tbody tr th {\n",
       "        vertical-align: top;\n",
       "    }\n",
       "\n",
       "    .dataframe thead th {\n",
       "        text-align: right;\n",
       "    }\n",
       "</style>\n",
       "<table border=\"1\" class=\"dataframe\">\n",
       "  <thead>\n",
       "    <tr style=\"text-align: right;\">\n",
       "      <th></th>\n",
       "      <th>index</th>\n",
       "      <th>Actual</th>\n",
       "      <th>Predicted</th>\n",
       "      <th>Id</th>\n",
       "    </tr>\n",
       "  </thead>\n",
       "  <tbody>\n",
       "    <tr>\n",
       "      <th>0</th>\n",
       "      <td>776</td>\n",
       "      <td>9850</td>\n",
       "      <td>10073.489785</td>\n",
       "      <td>0</td>\n",
       "    </tr>\n",
       "    <tr>\n",
       "      <th>1</th>\n",
       "      <td>487</td>\n",
       "      <td>10650</td>\n",
       "      <td>10293.318926</td>\n",
       "      <td>1</td>\n",
       "    </tr>\n",
       "    <tr>\n",
       "      <th>2</th>\n",
       "      <td>1462</td>\n",
       "      <td>5199</td>\n",
       "      <td>6250.181303</td>\n",
       "      <td>2</td>\n",
       "    </tr>\n",
       "    <tr>\n",
       "      <th>3</th>\n",
       "      <td>89</td>\n",
       "      <td>9970</td>\n",
       "      <td>10368.300682</td>\n",
       "      <td>3</td>\n",
       "    </tr>\n",
       "    <tr>\n",
       "      <th>4</th>\n",
       "      <td>852</td>\n",
       "      <td>9999</td>\n",
       "      <td>9540.320853</td>\n",
       "      <td>4</td>\n",
       "    </tr>\n",
       "    <tr>\n",
       "      <th>5</th>\n",
       "      <td>12</td>\n",
       "      <td>9700</td>\n",
       "      <td>10307.799776</td>\n",
       "      <td>5</td>\n",
       "    </tr>\n",
       "    <tr>\n",
       "      <th>6</th>\n",
       "      <td>353</td>\n",
       "      <td>8900</td>\n",
       "      <td>8902.872087</td>\n",
       "      <td>6</td>\n",
       "    </tr>\n",
       "    <tr>\n",
       "      <th>7</th>\n",
       "      <td>76</td>\n",
       "      <td>7900</td>\n",
       "      <td>7176.381624</td>\n",
       "      <td>7</td>\n",
       "    </tr>\n",
       "    <tr>\n",
       "      <th>8</th>\n",
       "      <td>633</td>\n",
       "      <td>8900</td>\n",
       "      <td>9963.615342</td>\n",
       "      <td>8</td>\n",
       "    </tr>\n",
       "    <tr>\n",
       "      <th>9</th>\n",
       "      <td>181</td>\n",
       "      <td>10950</td>\n",
       "      <td>10423.047838</td>\n",
       "      <td>9</td>\n",
       "    </tr>\n",
       "  </tbody>\n",
       "</table>\n",
       "</div>"
      ],
      "text/plain": [
       "   index  Actual     Predicted  Id\n",
       "0    776    9850  10073.489785   0\n",
       "1    487   10650  10293.318926   1\n",
       "2   1462    5199   6250.181303   2\n",
       "3     89    9970  10368.300682   3\n",
       "4    852    9999   9540.320853   4\n",
       "5     12    9700  10307.799776   5\n",
       "6    353    8900   8902.872087   6\n",
       "7     76    7900   7176.381624   7\n",
       "8    633    8900   9963.615342   8\n",
       "9    181   10950  10423.047838   9"
      ]
     },
     "execution_count": 43,
     "metadata": {},
     "output_type": "execute_result"
    }
   ],
   "source": [
    "Results= a.DataFrame(columns=['Actual','Predicted'])\n",
    "Results['Actual']=y_test\n",
    "Results['Predicted']=y_pred_ridge\n",
    "\n",
    "Results=Results.reset_index()\n",
    "Results['Id']=Results.index\n",
    "Results.head(10)"
   ]
  },
  {
   "cell_type": "code",
   "execution_count": 44,
   "metadata": {},
   "outputs": [
    {
     "data": {
      "text/plain": [
       "[]"
      ]
     },
     "execution_count": 44,
     "metadata": {},
     "output_type": "execute_result"
    },
    {
     "data": {
      "image/png": "[encoded data removed]",
      "text/plain": [
       "<Figure size 432x288 with 1 Axes>"
      ]
     },
     "metadata": {
      "needs_background": "light"
     },
     "output_type": "display_data"
    }
   ],
   "source": [
    "sns.lineplot(x='Id',y='Actual',data=Results.head(50))\n",
    "sns.lineplot(x='Id',y='Predicted',data=Results.head(50))\n",
    "plt.plot()"
   ]
  },
  {
   "cell_type": "code",
   "execution_count": 45,
   "metadata": {},
   "outputs": [
    {
     "data": {
      "text/plain": [
       "[]"
      ]
     },
     "execution_count": 45,
     "metadata": {},
     "output_type": "execute_result"
    },
    {
     "data": {
      "image/png": "[encoded data removed]",
      "text/plain": [
       "<Figure size 432x288 with 1 Axes>"
      ]
     },
     "metadata": {
      "needs_background": "light"
     },
     "output_type": "display_data"
    }
   ],
   "source": [
    "sns.lineplot(x='Id',y='Actual',data=Results.tail(50))\n",
    "sns.lineplot(x='Id',y='Predicted',data=Results.tail(50))\n",
    "plt.plot()"
   ]
  },
  {
   "cell_type": "code",
   "execution_count": null,
   "metadata": {},
   "outputs": [],
   "source": []
  },
  {
   "cell_type": "code",
   "execution_count": 46,
   "metadata": {},
   "outputs": [
    {
     "data": {
      "text/html": [
       "<style>#sk-container-id-3 {color: black;}#sk-container-id-3 pre{padding: 0;}#sk-container-id-3 div.sk-toggleable {background-color: white;}#sk-container-id-3 label.sk-toggleable__label {cursor: pointer;display: block;width: 100%;margin-bottom: 0;padding: 0.3em;box-sizing: border-box;text-align: center;}#sk-container-id-3 label.sk-toggleable__label-arrow:before {content: \"▸\";float: left;margin-right: 0.25em;color: #696969;}#sk-container-id-3 label.sk-toggleable__label-arrow:hover:before {color: black;}#sk-container-id-3 div.sk-estimator:hover label.sk-toggleable__label-arrow:before {color: black;}#sk-container-id-3 div.sk-toggleable__content {max-height: 0;max-width: 0;overflow: hidden;text-align: left;background-color: #f0f8ff;}#sk-container-id-3 div.sk-toggleable__content pre {margin: 0.2em;color: black;border-radius: 0.25em;background-color: #f0f8ff;}#sk-container-id-3 input.sk-toggleable__control:checked~div.sk-toggleable__content {max-height: 200px;max-width: 100%;overflow: auto;}#sk-container-id-3 input.sk-toggleable__control:checked~label.sk-toggleable__label-arrow:before {content: \"▾\";}#sk-container-id-3 div.sk-estimator input.sk-toggleable__control:checked~label.sk-toggleable__label {background-color: #d4ebff;}#sk-container-id-3 div.sk-label input.sk-toggleable__control:checked~label.sk-toggleable__label {background-color: #d4ebff;}#sk-container-id-3 input.sk-hidden--visually {border: 0;clip: rect(1px 1px 1px 1px);clip: rect(1px, 1px, 1px, 1px);height: 1px;margin: -1px;overflow: hidden;padding: 0;position: absolute;width: 1px;}#sk-container-id-3 div.sk-estimator {font-family: monospace;background-color: #f0f8ff;border: 1px dotted black;border-radius: 0.25em;box-sizing: border-box;margin-bottom: 0.5em;}#sk-container-id-3 div.sk-estimator:hover {background-color: #d4ebff;}#sk-container-id-3 div.sk-parallel-item::after {content: \"\";width: 100%;border-bottom: 1px solid gray;flex-grow: 1;}#sk-container-id-3 div.sk-label:hover label.sk-toggleable__label {background-color: #d4ebff;}#sk-container-id-3 div.sk-serial::before {content: \"\";position: absolute;border-left: 1px solid gray;box-sizing: border-box;top: 0;bottom: 0;left: 50%;z-index: 0;}#sk-container-id-3 div.sk-serial {display: flex;flex-direction: column;align-items: center;background-color: white;padding-right: 0.2em;padding-left: 0.2em;position: relative;}#sk-container-id-3 div.sk-item {position: relative;z-index: 1;}#sk-container-id-3 div.sk-parallel {display: flex;align-items: stretch;justify-content: center;background-color: white;position: relative;}#sk-container-id-3 div.sk-item::before, #sk-container-id-3 div.sk-parallel-item::before {content: \"\";position: absolute;border-left: 1px solid gray;box-sizing: border-box;top: 0;bottom: 0;left: 50%;z-index: -1;}#sk-container-id-3 div.sk-parallel-item {display: flex;flex-direction: column;z-index: 1;position: relative;background-color: white;}#sk-container-id-3 div.sk-parallel-item:first-child::after {align-self: flex-end;width: 50%;}#sk-container-id-3 div.sk-parallel-item:last-child::after {align-self: flex-start;width: 50%;}#sk-container-id-3 div.sk-parallel-item:only-child::after {width: 0;}#sk-container-id-3 div.sk-dashed-wrapped {border: 1px dashed gray;margin: 0 0.4em 0.5em 0.4em;box-sizing: border-box;padding-bottom: 0.4em;background-color: white;}#sk-container-id-3 div.sk-label label {font-family: monospace;font-weight: bold;display: inline-block;line-height: 1.2em;}#sk-container-id-3 div.sk-label-container {text-align: center;}#sk-container-id-3 div.sk-container {/* jupyter's `normalize.less` sets `[hidden] { display: none; }` but bootstrap.min.css set `[hidden] { display: none !important; }` so we also need the `!important` here to be able to override the default hidden behavior on the sphinx rendered scikit-learn.org. See: https://github.com/scikit-learn/scikit-learn/issues/21755 */display: inline-block !important;position: relative;}#sk-container-id-3 div.sk-text-repr-fallback {display: none;}</style><div id=\"sk-container-id-3\" class=\"sk-top-container\"><div class=\"sk-text-repr-fallback\"><pre>GridSearchCV(estimator=ElasticNet(),\n",
       "             param_grid={&#x27;alpha&#x27;: [1e-15, 1e-10, 1e-08, 0.0001, 0.001, 0.01, 1,\n",
       "                                   5, 10, 20]})</pre><b>In a Jupyter environment, please rerun this cell to show the HTML representation or trust the notebook. <br />On GitHub, the HTML representation is unable to render, please try loading this page with nbviewer.org.</b></div><div class=\"sk-container\" hidden><div class=\"sk-item sk-dashed-wrapped\"><div class=\"sk-label-container\"><div class=\"sk-label sk-toggleable\"><input class=\"sk-toggleable__control sk-hidden--visually\" id=\"sk-estimator-id-5\" type=\"checkbox\" ><label for=\"sk-estimator-id-5\" class=\"sk-toggleable__label sk-toggleable__label-arrow\">GridSearchCV</label><div class=\"sk-toggleable__content\"><pre>GridSearchCV(estimator=ElasticNet(),\n",
       "             param_grid={&#x27;alpha&#x27;: [1e-15, 1e-10, 1e-08, 0.0001, 0.001, 0.01, 1,\n",
       "                                   5, 10, 20]})</pre></div></div></div><div class=\"sk-parallel\"><div class=\"sk-parallel-item\"><div class=\"sk-item\"><div class=\"sk-label-container\"><div class=\"sk-label sk-toggleable\"><input class=\"sk-toggleable__control sk-hidden--visually\" id=\"sk-estimator-id-6\" type=\"checkbox\" ><label for=\"sk-estimator-id-6\" class=\"sk-toggleable__label sk-toggleable__label-arrow\">estimator: ElasticNet</label><div class=\"sk-toggleable__content\"><pre>ElasticNet()</pre></div></div></div><div class=\"sk-serial\"><div class=\"sk-item\"><div class=\"sk-estimator sk-toggleable\"><input class=\"sk-toggleable__control sk-hidden--visually\" id=\"sk-estimator-id-7\" type=\"checkbox\" ><label for=\"sk-estimator-id-7\" class=\"sk-toggleable__label sk-toggleable__label-arrow\">ElasticNet</label><div class=\"sk-toggleable__content\"><pre>ElasticNet()</pre></div></div></div></div></div></div></div></div></div></div>"
      ],
      "text/plain": [
       "GridSearchCV(estimator=ElasticNet(),\n",
       "             param_grid={'alpha': [1e-15, 1e-10, 1e-08, 0.0001, 0.001, 0.01, 1,\n",
       "                                   5, 10, 20]})"
      ]
     },
     "execution_count": 46,
     "metadata": {},
     "output_type": "execute_result"
    }
   ],
   "source": [
    "from sklearn.linear_model import ElasticNet\n",
    "\n",
    "elastic = ElasticNet()\n",
    "\n",
    "parameters = {'alpha': [1e-15, 1e-10, 1e-8, 1e-4, 1e-3,1e-2, 1, 5, 10, 20]}\n",
    "\n",
    "elastic_regressor = GridSearchCV(elastic, parameters)\n",
    "\n",
    "elastic_regressor.fit(X_train, y_train)"
   ]
  },
  {
   "cell_type": "code",
   "execution_count": 47,
   "metadata": {},
   "outputs": [
    {
     "data": {
      "text/plain": [
       "{'alpha': 1}"
      ]
     },
     "execution_count": 47,
     "metadata": {},
     "output_type": "execute_result"
    }
   ],
   "source": [
    "elastic_regressor.best_params_"
   ]
  },
  {
   "cell_type": "code",
   "execution_count": 48,
   "metadata": {},
   "outputs": [],
   "source": [
    "elastic=ElasticNet(alpha=.01)\n",
    "elastic.fit(X_train,y_train)\n",
    "y_pred_elastic=elastic.predict(X_test)"
   ]
  },
  {
   "cell_type": "code",
   "execution_count": 49,
   "metadata": {},
   "outputs": [
    {
     "data": {
      "text/plain": [
       "0.8432710765986537"
      ]
     },
     "execution_count": 49,
     "metadata": {},
     "output_type": "execute_result"
    }
   ],
   "source": [
    "from sklearn.metrics import r2_score\n",
    "r2_score(y_test,y_pred_elastic)"
   ]
  },
  {
   "cell_type": "code",
   "execution_count": 50,
   "metadata": {},
   "outputs": [
    {
     "data": {
      "text/plain": [
       "577730.3674296839"
      ]
     },
     "execution_count": 50,
     "metadata": {},
     "output_type": "execute_result"
    }
   ],
   "source": [
    "elastic_Error=mean_squared_error(y_pred_elastic,y_test)\n",
    "elastic_Error"
   ]
  },
  {
   "cell_type": "code",
   "execution_count": 51,
   "metadata": {},
   "outputs": [
    {
     "data": {
      "text/html": [
       "<div>\n",
       "<style scoped>\n",
       "    .dataframe tbody tr th:only-of-type {\n",
       "        vertical-align: middle;\n",
       "    }\n",
       "\n",
       "    .dataframe tbody tr th {\n",
       "        vertical-align: top;\n",
       "    }\n",
       "\n",
       "    .dataframe thead th {\n",
       "        text-align: right;\n",
       "    }\n",
       "</style>\n",
       "<table border=\"1\" class=\"dataframe\">\n",
       "  <thead>\n",
       "    <tr style=\"text-align: right;\">\n",
       "      <th></th>\n",
       "      <th>index</th>\n",
       "      <th>Actual</th>\n",
       "      <th>Predicted</th>\n",
       "      <th>Id</th>\n",
       "    </tr>\n",
       "  </thead>\n",
       "  <tbody>\n",
       "    <tr>\n",
       "      <th>0</th>\n",
       "      <td>776</td>\n",
       "      <td>9850</td>\n",
       "      <td>10076.381384</td>\n",
       "      <td>0</td>\n",
       "    </tr>\n",
       "    <tr>\n",
       "      <th>1</th>\n",
       "      <td>487</td>\n",
       "      <td>10650</td>\n",
       "      <td>10296.212886</td>\n",
       "      <td>1</td>\n",
       "    </tr>\n",
       "    <tr>\n",
       "      <th>2</th>\n",
       "      <td>1462</td>\n",
       "      <td>5199</td>\n",
       "      <td>6235.217128</td>\n",
       "      <td>2</td>\n",
       "    </tr>\n",
       "    <tr>\n",
       "      <th>3</th>\n",
       "      <td>89</td>\n",
       "      <td>9970</td>\n",
       "      <td>10371.190039</td>\n",
       "      <td>3</td>\n",
       "    </tr>\n",
       "    <tr>\n",
       "      <th>4</th>\n",
       "      <td>852</td>\n",
       "      <td>9999</td>\n",
       "      <td>9543.240584</td>\n",
       "      <td>4</td>\n",
       "    </tr>\n",
       "    <tr>\n",
       "      <th>5</th>\n",
       "      <td>12</td>\n",
       "      <td>9700</td>\n",
       "      <td>10310.690582</td>\n",
       "      <td>5</td>\n",
       "    </tr>\n",
       "    <tr>\n",
       "      <th>6</th>\n",
       "      <td>353</td>\n",
       "      <td>8900</td>\n",
       "      <td>8887.224255</td>\n",
       "      <td>6</td>\n",
       "    </tr>\n",
       "    <tr>\n",
       "      <th>7</th>\n",
       "      <td>76</td>\n",
       "      <td>7900</td>\n",
       "      <td>7161.424233</td>\n",
       "      <td>7</td>\n",
       "    </tr>\n",
       "    <tr>\n",
       "      <th>8</th>\n",
       "      <td>633</td>\n",
       "      <td>8900</td>\n",
       "      <td>9947.892996</td>\n",
       "      <td>8</td>\n",
       "    </tr>\n",
       "    <tr>\n",
       "      <th>9</th>\n",
       "      <td>181</td>\n",
       "      <td>10950</td>\n",
       "      <td>10425.932562</td>\n",
       "      <td>9</td>\n",
       "    </tr>\n",
       "  </tbody>\n",
       "</table>\n",
       "</div>"
      ],
      "text/plain": [
       "   index  Actual     Predicted  Id\n",
       "0    776    9850  10076.381384   0\n",
       "1    487   10650  10296.212886   1\n",
       "2   1462    5199   6235.217128   2\n",
       "3     89    9970  10371.190039   3\n",
       "4    852    9999   9543.240584   4\n",
       "5     12    9700  10310.690582   5\n",
       "6    353    8900   8887.224255   6\n",
       "7     76    7900   7161.424233   7\n",
       "8    633    8900   9947.892996   8\n",
       "9    181   10950  10425.932562   9"
      ]
     },
     "execution_count": 51,
     "metadata": {},
     "output_type": "execute_result"
    }
   ],
   "source": [
    "Results= a.DataFrame(columns=['Actual','Predicted'])\n",
    "Results['Actual']=y_test\n",
    "Results['Predicted']=y_pred_elastic\n",
    "\n",
    "Results=Results.reset_index()\n",
    "Results['Id']=Results.index\n",
    "Results.head(10)"
   ]
  },
  {
   "cell_type": "code",
   "execution_count": 52,
   "metadata": {},
   "outputs": [
    {
     "data": {
      "text/plain": [
       "[]"
      ]
     },
     "execution_count": 52,
     "metadata": {},
     "output_type": "execute_result"
    },
    {
     "data": {
      "image/png": "[encoded data removed]",
      "text/plain": [
       "<Figure size 432x288 with 1 Axes>"
      ]
     },
     "metadata": {
      "needs_background": "light"
     },
     "output_type": "display_data"
    }
   ],
   "source": [
    "sns.lineplot(x='Id',y='Actual',data=Results.head(50))\n",
    "sns.lineplot(x='Id',y='Predicted',data=Results.head(50))\n",
    "plt.plot()"
   ]
  },
  {
   "cell_type": "code",
   "execution_count": null,
   "metadata": {},
   "outputs": [],
   "source": [
    "from sklearn.model_selection import GridSearchCV #GridSearchCV is for parameter tun\n",
    "from sklearn.ensemble import RandomForestRegressor\n",
    "reg=RandomForestRegressor()\n",
    "n_estimators=[25,50,75,100,125,150,175,200] #number of decision trees in the forest\n",
    "criterion=['squared_error'] #criteria for choosing nodes default = 'gini'\n",
    "max_depth=[3,5,10] #maximum number of nodes in a tree default = None (it will go ti\n",
    "parameters={'n_estimators': n_estimators,'criterion':criterion,'max_depth':max_depth}\n",
    "RFC_reg=GridSearchCV(reg,parameters)\n",
    "RFC_reg.fit(X_train,y_train)"
   ]
  },
  {
   "cell_type": "code",
   "execution_count": 54,
   "metadata": {},
   "outputs": [
    {
     "data": {
      "text/plain": [
       "{'criterion': 'squared_error', 'max_depth': 5, 'n_estimators': 175}"
      ]
     },
     "execution_count": 54,
     "metadata": {},
     "output_type": "execute_result"
    }
   ],
   "source": [
    "RFC_reg.best_params_"
   ]
  },
  {
   "cell_type": "code",
   "execution_count": 55,
   "metadata": {},
   "outputs": [
    {
     "data": {
      "text/html": [
       "<style>#sk-container-id-5 {color: black;}#sk-container-id-5 pre{padding: 0;}#sk-container-id-5 div.sk-toggleable {background-color: white;}#sk-container-id-5 label.sk-toggleable__label {cursor: pointer;display: block;width: 100%;margin-bottom: 0;padding: 0.3em;box-sizing: border-box;text-align: center;}#sk-container-id-5 label.sk-toggleable__label-arrow:before {content: \"▸\";float: left;margin-right: 0.25em;color: #696969;}#sk-container-id-5 label.sk-toggleable__label-arrow:hover:before {color: black;}#sk-container-id-5 div.sk-estimator:hover label.sk-toggleable__label-arrow:before {color: black;}#sk-container-id-5 div.sk-toggleable__content {max-height: 0;max-width: 0;overflow: hidden;text-align: left;background-color: #f0f8ff;}#sk-container-id-5 div.sk-toggleable__content pre {margin: 0.2em;color: black;border-radius: 0.25em;background-color: #f0f8ff;}#sk-container-id-5 input.sk-toggleable__control:checked~div.sk-toggleable__content {max-height: 200px;max-width: 100%;overflow: auto;}#sk-container-id-5 input.sk-toggleable__control:checked~label.sk-toggleable__label-arrow:before {content: \"▾\";}#sk-container-id-5 div.sk-estimator input.sk-toggleable__control:checked~label.sk-toggleable__label {background-color: #d4ebff;}#sk-container-id-5 div.sk-label input.sk-toggleable__control:checked~label.sk-toggleable__label {background-color: #d4ebff;}#sk-container-id-5 input.sk-hidden--visually {border: 0;clip: rect(1px 1px 1px 1px);clip: rect(1px, 1px, 1px, 1px);height: 1px;margin: -1px;overflow: hidden;padding: 0;position: absolute;width: 1px;}#sk-container-id-5 div.sk-estimator {font-family: monospace;background-color: #f0f8ff;border: 1px dotted black;border-radius: 0.25em;box-sizing: border-box;margin-bottom: 0.5em;}#sk-container-id-5 div.sk-estimator:hover {background-color: #d4ebff;}#sk-container-id-5 div.sk-parallel-item::after {content: \"\";width: 100%;border-bottom: 1px solid gray;flex-grow: 1;}#sk-container-id-5 div.sk-label:hover label.sk-toggleable__label {background-color: #d4ebff;}#sk-container-id-5 div.sk-serial::before {content: \"\";position: absolute;border-left: 1px solid gray;box-sizing: border-box;top: 0;bottom: 0;left: 50%;z-index: 0;}#sk-container-id-5 div.sk-serial {display: flex;flex-direction: column;align-items: center;background-color: white;padding-right: 0.2em;padding-left: 0.2em;position: relative;}#sk-container-id-5 div.sk-item {position: relative;z-index: 1;}#sk-container-id-5 div.sk-parallel {display: flex;align-items: stretch;justify-content: center;background-color: white;position: relative;}#sk-container-id-5 div.sk-item::before, #sk-container-id-5 div.sk-parallel-item::before {content: \"\";position: absolute;border-left: 1px solid gray;box-sizing: border-box;top: 0;bottom: 0;left: 50%;z-index: -1;}#sk-container-id-5 div.sk-parallel-item {display: flex;flex-direction: column;z-index: 1;position: relative;background-color: white;}#sk-container-id-5 div.sk-parallel-item:first-child::after {align-self: flex-end;width: 50%;}#sk-container-id-5 div.sk-parallel-item:last-child::after {align-self: flex-start;width: 50%;}#sk-container-id-5 div.sk-parallel-item:only-child::after {width: 0;}#sk-container-id-5 div.sk-dashed-wrapped {border: 1px dashed gray;margin: 0 0.4em 0.5em 0.4em;box-sizing: border-box;padding-bottom: 0.4em;background-color: white;}#sk-container-id-5 div.sk-label label {font-family: monospace;font-weight: bold;display: inline-block;line-height: 1.2em;}#sk-container-id-5 div.sk-label-container {text-align: center;}#sk-container-id-5 div.sk-container {/* jupyter's `normalize.less` sets `[hidden] { display: none; }` but bootstrap.min.css set `[hidden] { display: none !important; }` so we also need the `!important` here to be able to override the default hidden behavior on the sphinx rendered scikit-learn.org. See: https://github.com/scikit-learn/scikit-learn/issues/21755 */display: inline-block !important;position: relative;}#sk-container-id-5 div.sk-text-repr-fallback {display: none;}</style><div id=\"sk-container-id-5\" class=\"sk-top-container\"><div class=\"sk-text-repr-fallback\"><pre>RandomForestRegressor(max_depth=5, n_estimators=125)</pre><b>In a Jupyter environment, please rerun this cell to show the HTML representation or trust the notebook. <br />On GitHub, the HTML representation is unable to render, please try loading this page with nbviewer.org.</b></div><div class=\"sk-container\" hidden><div class=\"sk-item\"><div class=\"sk-estimator sk-toggleable\"><input class=\"sk-toggleable__control sk-hidden--visually\" id=\"sk-estimator-id-11\" type=\"checkbox\" checked><label for=\"sk-estimator-id-11\" class=\"sk-toggleable__label sk-toggleable__label-arrow\">RandomForestRegressor</label><div class=\"sk-toggleable__content\"><pre>RandomForestRegressor(max_depth=5, n_estimators=125)</pre></div></div></div></div></div>"
      ],
      "text/plain": [
       "RandomForestRegressor(max_depth=5, n_estimators=125)"
      ]
     },
     "execution_count": 55,
     "metadata": {},
     "output_type": "execute_result"
    }
   ],
   "source": [
    "reg=RandomForestRegressor(n_estimators=125,criterion='squared_error',max_depth=5)\n",
    "reg.fit(X_train,y_train)"
   ]
  },
  {
   "cell_type": "code",
   "execution_count": 56,
   "metadata": {},
   "outputs": [],
   "source": [
    "y_pred=reg.predict(X_test)"
   ]
  },
  {
   "cell_type": "code",
   "execution_count": 57,
   "metadata": {},
   "outputs": [
    {
     "data": {
      "text/plain": [
       "array([10003.67465408, 10478.18192182,  5892.18666906, 10464.30752102,\n",
       "        9821.93625473, 10509.65204558,  8537.16439409,  7190.67737081,\n",
       "       10175.54526754, 10445.95191663, 10010.22362764,  7392.78704374,\n",
       "        9928.38684062,  7409.48987814, 10501.06023906,  7527.26683262,\n",
       "       10424.2574918 , 10455.57355979,  8847.22416196,  8774.81765698,\n",
       "        7700.57457259,  9390.94029612,  8809.3497577 ,  9985.55869294,\n",
       "       10026.30672095,  6810.30152492,  6467.1794299 ,  5907.05079876,\n",
       "        4960.50637061, 10129.24878146,  9473.01378633,  4819.35098776,\n",
       "        9555.40785332,  9460.6038169 ,  8361.67196111,  7214.77643462,\n",
       "        9831.80315168,  7740.66001199,  6424.49460081, 10455.7157145 ,\n",
       "        7587.90490754,  6987.54035806, 10493.59397066,  5197.73549887,\n",
       "        9492.59411523,  9147.61691507,  8399.40571082,  9743.4943497 ,\n",
       "        5503.98758561,  7364.08242318,  5010.80499477,  9192.58020245,\n",
       "        9979.23082546, 10108.01302913,  6334.62227609,  5691.11076764,\n",
       "        7128.83152997, 10194.38401573,  9725.14238208, 10445.07191114,\n",
       "        9669.84032936,  7895.73255118, 10467.59934939, 10464.30752102,\n",
       "        9994.4710761 ,  7298.52760316,  7466.73917327,  5056.54373346,\n",
       "       10173.15278515,  7082.18135084,  5040.01478189,  6352.67938634,\n",
       "        4662.17862349,  9744.72017821,  7370.18321443,  8490.27239333,\n",
       "        5020.15892043,  7138.81341247,  6658.89005601,  7819.95168322,\n",
       "        5032.98408998,  7137.9813294 ,  5854.41844627,  7894.02262236,\n",
       "        7328.41220603,  7390.71826135, 10155.48478799,  8490.27239333,\n",
       "        9265.46260722,  8748.77907407, 10462.77974484,  7069.73409227,\n",
       "        7712.44396802,  7799.34325608,  9515.3505013 ,  9933.18884101,\n",
       "        9662.16732717,  8647.52402509,  9488.43860329,  6755.00262848,\n",
       "        6367.15167563,  9172.8246178 ,  9151.58814201,  9509.00687775,\n",
       "       10464.30752102, 10501.06023906, 10445.95191663, 10354.44367065,\n",
       "        8102.94485592, 10260.55759484,  9807.73977231,  6610.50747252,\n",
       "        7733.75258233,  6035.92016759,  9960.99512702, 10122.06946902,\n",
       "        9303.74008022, 10422.8140836 ,  5069.88717647,  4587.09186469,\n",
       "       10428.7969657 ,  7800.35565858, 10230.54564869, 10177.11288888,\n",
       "        5563.95455769,  9522.78640451,  9504.26950534,  7781.19144626,\n",
       "        9734.75346844, 10464.30752102,  9119.08440103,  9865.54934519,\n",
       "        4803.26313629,  9132.72569756,  9979.15935743,  7353.95936437,\n",
       "        9832.00696671,  9537.19205163,  4958.81850731, 10024.6017963 ,\n",
       "        6758.54256111,  9735.7506635 ,  9276.22549109,  6111.39508305,\n",
       "        6067.89458085, 10478.18192182, 10374.49492979,  8859.81916613,\n",
       "        7253.53492896,  6690.46103754, 10082.78359696,  7353.62159963,\n",
       "       10396.85721593, 10129.24878146,  7440.96938327,  6127.11317843,\n",
       "       10177.39118027,  9682.16851648, 10388.84480781, 10493.59397066,\n",
       "        7920.86479251,  8381.88496016,  9672.52460758,  6221.66419938,\n",
       "        9980.5103539 ,  9760.45947023,  9501.6628538 , 10507.56409554,\n",
       "        7352.26087296,  4940.76789656,  9662.16732717,  9725.14238208,\n",
       "        7873.89034756, 10455.7157145 ,  6493.06038865,  9960.42788842,\n",
       "        8796.84504414, 10043.45475925,  9958.04013286, 10493.48652119,\n",
       "        6391.49225115,  7183.81294057,  7858.02042234,  7877.21829606,\n",
       "        6729.26396856,  9460.6038169 ,  9980.62519333,  9492.82066182,\n",
       "        9690.313286  , 10499.93223906,  7144.9835031 ,  7180.95758233,\n",
       "        9537.19205163,  6772.47211259,  4462.2918548 ,  9253.71458304,\n",
       "        9960.42788842,  8784.16570275, 10478.18192182, 10176.90374623,\n",
       "       10307.81071796,  9775.52632623,  9960.42788842, 10143.24908534,\n",
       "        8828.3320486 ,  9712.70885122,  9819.85003708,  9989.33388701,\n",
       "       10464.30752102,  7510.98146055,  9827.83008411,  9978.07256698,\n",
       "       10256.90252297, 10383.95714227,  4927.00553877,  5815.3292909 ,\n",
       "       10136.24839682,  4795.50782575,  7878.79965629,  7075.81215551,\n",
       "        7907.08668835,  7358.19086593,  4436.91116826,  5925.61528966,\n",
       "        9512.36639155,  7320.55964653,  5185.5939322 ,  7217.01315148,\n",
       "       10249.26268078,  8438.97142207,  9827.83008411, 10451.64598135,\n",
       "        8947.67824988, 10478.18192182,  9224.61106078,  7936.62203079,\n",
       "        9960.42788842,  9473.14208647,  5310.63242072, 10058.91554925,\n",
       "        9496.46860818,  9478.05055239,  6279.22694031,  9672.52460758,\n",
       "        7532.44423756, 10396.85721593,  9012.51168845, 10507.56409554,\n",
       "       10432.65164122,  7150.23846053,  6179.95528553,  8748.77907407,\n",
       "        6656.01559432,  8809.3497577 , 10426.98042411,  9483.37475135,\n",
       "        9960.42788842,  6038.10764967, 10455.57355979,  7171.84633427,\n",
       "        5197.69750906, 10449.55803131,  5511.22068376, 10148.45458595,\n",
       "       10143.24908534,  5366.40479723,  6396.41853959,  6778.26825968,\n",
       "        7812.32049475,  5010.24896324,  4864.90376599,  9233.78438142,\n",
       "       10250.29973189,  9047.01208934, 10462.09095867, 10486.1493835 ,\n",
       "       10390.15443544,  8781.60845093, 10131.46534381,  5008.26932338,\n",
       "       10047.53488285,  9737.07435491,  9791.01471978, 10031.44686601,\n",
       "        9038.82661207,  7146.88170224,  8870.51780933, 10009.0851069 ,\n",
       "        9969.16673502,  9521.58122161,  7616.56333017, 10004.72373417,\n",
       "        9493.1759757 ,  7890.93629448, 10282.59087096,  9515.3505013 ,\n",
       "        9258.02485602, 10493.48652119, 10238.12605034,  9516.35355945,\n",
       "        7453.86218375, 10231.52398305,  5022.42430973,  6632.29257846,\n",
       "       10222.94208367,  9923.84347721,  9710.28640683,  5703.03628953,\n",
       "        8770.95305653,  9996.00641556,  7163.96808123,  7030.05191238,\n",
       "        5709.82956226,  5048.23262235,  8639.05812076,  9954.54724271,\n",
       "        6191.74983794, 10002.9685931 ,  9532.04950483, 10218.0337382 ,\n",
       "       10227.1563812 ,  9498.50000217, 10143.24908534,  7404.59111871,\n",
       "        8333.6462116 ,  8169.09144218,  9832.00696671,  4587.61446156,\n",
       "       10453.35699745, 10392.37099779, 10038.90375955, 10010.22362764,\n",
       "       10445.95191663, 10399.07377827,  7719.48682305,  9509.00687775,\n",
       "       10443.73535429,  6220.88605685, 10491.39857116,  7946.50888948,\n",
       "        7546.10164886,  9790.53067497,  7361.55996409,  9998.38653143,\n",
       "        9980.72928336,  5695.68349491,  4918.75552754,  6923.52665613,\n",
       "        9818.04583366,  9993.33819239,  9908.68043165, 10478.05478778,\n",
       "       10507.56409554,  9881.75495918, 10029.41303149,  9815.77266609,\n",
       "        9814.83050539,  8301.52687629,  7052.42268904,  7944.96626481,\n",
       "       10282.59087096,  9812.15096853, 10414.47836093,  7857.13777117,\n",
       "        5674.28297373,  7830.285181  , 10424.68647339, 10491.39857116,\n",
       "        6531.75443398,  4669.41296568, 10478.18192182,  9755.88880455,\n",
       "       10432.31548457, 10507.56409554,  5949.60561139, 10287.99553968,\n",
       "       10396.85721593, 10507.56409554,  8646.26799454,  5040.01478189,\n",
       "        9747.96682802, 10451.64598135, 10082.8092994 ,  6087.22475143,\n",
       "        5366.77906472,  9962.77213247,  7276.92232388,  8548.60613572,\n",
       "        8801.53999669,  7466.73917327,  9747.85414442,  9829.58277187,\n",
       "        9761.55211907,  9764.95623068, 10354.69981569,  5015.51879651,\n",
       "        4927.00553877,  9457.68534224,  7811.80367275, 10451.64598135,\n",
       "        7384.79644016,  5783.3685047 ,  5078.32097177, 10058.91554925,\n",
       "        6814.31498547, 10250.29973189,  7352.98944184,  6283.4007373 ,\n",
       "        9966.78379526,  9621.87466034, 10177.11288888,  9802.51032395,\n",
       "       10442.62126247,  6346.31160812,  7599.02608182,  5922.61196845,\n",
       "       10003.67465408, 10007.24636611,  7308.73809631,  9492.82066182,\n",
       "        8731.53060972,  7679.41070331,  7104.55451281,  4829.59367071,\n",
       "        7141.16260787, 10509.65204558,  8728.05163013,  9526.43435087,\n",
       "        4866.94757723, 10467.61909568,  5468.88466449,  9480.98287034,\n",
       "        7902.17663321, 10024.6017963 ,  9709.11771592,  7844.06911475,\n",
       "        9010.40550875,  7889.58331796,  9764.95623068, 10417.86792878,\n",
       "       10449.1365951 ,  7377.18691447,  9470.22361181,  9989.22344788,\n",
       "       10253.82647021,  9503.48535232,  4962.45891906,  7920.5689716 ,\n",
       "        6892.45074963,  9791.01471978,  8287.36964074,  7126.65436767,\n",
       "        9977.58071229,  7729.92566318,  6393.073837  ,  8544.63704429,\n",
       "        9776.88820351,  8840.26370599,  9728.34780178,  7445.60967131,\n",
       "       10425.80015195,  9934.94852286, 10442.62126247,  9105.81370506,\n",
       "        7717.63315971,  5927.99026517, 10196.72049706, 10273.07988346,\n",
       "        9923.84347721, 10037.25491568,  8984.31222161,  9228.25900714,\n",
       "        5731.58519134,  5709.80050101,  9839.18130237,  4656.0526665 ,\n",
       "        4274.82723967, 10002.10917702,  9763.56161338,  9974.66106148,\n",
       "        6492.03433283, 10228.41773984,  8801.53999669,  7151.87928095,\n",
       "        9621.68541954,  9764.92349066,  9510.18100582,  8530.11249591,\n",
       "        9668.56073794, 10464.30752102,  8757.63486536,  9032.16142852,\n",
       "       10129.24878146,  9491.73123577,  9504.26950534,  6473.69460211,\n",
       "        9931.19877194,  9979.23082546,  9480.44172831,  9936.87802919,\n",
       "        7710.74047674, 10392.37109576,  7609.70275713,  7857.13777117,\n",
       "       10282.02033255,  7387.96257989,  9243.81813557, 10420.08449112])"
      ]
     },
     "execution_count": 57,
     "metadata": {},
     "output_type": "execute_result"
    }
   ],
   "source": [
    "y_pred"
   ]
  },
  {
   "cell_type": "code",
   "execution_count": 58,
   "metadata": {},
   "outputs": [
    {
     "data": {
      "text/plain": [
       "0.8337128148207336"
      ]
     },
     "execution_count": 58,
     "metadata": {},
     "output_type": "execute_result"
    }
   ],
   "source": [
    "from sklearn.metrics import r2_score\n",
    "r2_score(y_test,y_pred)"
   ]
  },
  {
   "cell_type": "code",
   "execution_count": 59,
   "metadata": {},
   "outputs": [
    {
     "data": {
      "text/html": [
       "<div>\n",
       "<style scoped>\n",
       "    .dataframe tbody tr th:only-of-type {\n",
       "        vertical-align: middle;\n",
       "    }\n",
       "\n",
       "    .dataframe tbody tr th {\n",
       "        vertical-align: top;\n",
       "    }\n",
       "\n",
       "    .dataframe thead th {\n",
       "        text-align: right;\n",
       "    }\n",
       "</style>\n",
       "<table border=\"1\" class=\"dataframe\">\n",
       "  <thead>\n",
       "    <tr style=\"text-align: right;\">\n",
       "      <th></th>\n",
       "      <th>index</th>\n",
       "      <th>Actual</th>\n",
       "      <th>Predicted</th>\n",
       "      <th>Id</th>\n",
       "    </tr>\n",
       "  </thead>\n",
       "  <tbody>\n",
       "    <tr>\n",
       "      <th>0</th>\n",
       "      <td>776</td>\n",
       "      <td>9850</td>\n",
       "      <td>10003.674654</td>\n",
       "      <td>0</td>\n",
       "    </tr>\n",
       "    <tr>\n",
       "      <th>1</th>\n",
       "      <td>487</td>\n",
       "      <td>10650</td>\n",
       "      <td>10478.181922</td>\n",
       "      <td>1</td>\n",
       "    </tr>\n",
       "    <tr>\n",
       "      <th>2</th>\n",
       "      <td>1462</td>\n",
       "      <td>5199</td>\n",
       "      <td>5892.186669</td>\n",
       "      <td>2</td>\n",
       "    </tr>\n",
       "    <tr>\n",
       "      <th>3</th>\n",
       "      <td>89</td>\n",
       "      <td>9970</td>\n",
       "      <td>10464.307521</td>\n",
       "      <td>3</td>\n",
       "    </tr>\n",
       "    <tr>\n",
       "      <th>4</th>\n",
       "      <td>852</td>\n",
       "      <td>9999</td>\n",
       "      <td>9821.936255</td>\n",
       "      <td>4</td>\n",
       "    </tr>\n",
       "    <tr>\n",
       "      <th>5</th>\n",
       "      <td>12</td>\n",
       "      <td>9700</td>\n",
       "      <td>10509.652046</td>\n",
       "      <td>5</td>\n",
       "    </tr>\n",
       "    <tr>\n",
       "      <th>6</th>\n",
       "      <td>353</td>\n",
       "      <td>8900</td>\n",
       "      <td>8537.164394</td>\n",
       "      <td>6</td>\n",
       "    </tr>\n",
       "    <tr>\n",
       "      <th>7</th>\n",
       "      <td>76</td>\n",
       "      <td>7900</td>\n",
       "      <td>7190.677371</td>\n",
       "      <td>7</td>\n",
       "    </tr>\n",
       "    <tr>\n",
       "      <th>8</th>\n",
       "      <td>633</td>\n",
       "      <td>8900</td>\n",
       "      <td>10175.545268</td>\n",
       "      <td>8</td>\n",
       "    </tr>\n",
       "    <tr>\n",
       "      <th>9</th>\n",
       "      <td>181</td>\n",
       "      <td>10950</td>\n",
       "      <td>10445.951917</td>\n",
       "      <td>9</td>\n",
       "    </tr>\n",
       "  </tbody>\n",
       "</table>\n",
       "</div>"
      ],
      "text/plain": [
       "   index  Actual     Predicted  Id\n",
       "0    776    9850  10003.674654   0\n",
       "1    487   10650  10478.181922   1\n",
       "2   1462    5199   5892.186669   2\n",
       "3     89    9970  10464.307521   3\n",
       "4    852    9999   9821.936255   4\n",
       "5     12    9700  10509.652046   5\n",
       "6    353    8900   8537.164394   6\n",
       "7     76    7900   7190.677371   7\n",
       "8    633    8900  10175.545268   8\n",
       "9    181   10950  10445.951917   9"
      ]
     },
     "execution_count": 59,
     "metadata": {},
     "output_type": "execute_result"
    }
   ],
   "source": [
    "Results= a.DataFrame(columns=['Actual','Predicted'])\n",
    "Results['Actual']=y_test\n",
    "Results['Predicted']=y_pred\n",
    "\n",
    "Results=Results.reset_index()\n",
    "Results['Id']=Results.index\n",
    "Results.head(10)"
   ]
  },
  {
   "cell_type": "code",
   "execution_count": 60,
   "metadata": {},
   "outputs": [
    {
     "data": {
      "text/plain": [
       "[]"
      ]
     },
     "execution_count": 60,
     "metadata": {},
     "output_type": "execute_result"
    },
    {
     "data": {
      "image/png": "[encoded data removed]",
      "text/plain": [
       "<Figure size 432x288 with 1 Axes>"
      ]
     },
     "metadata": {
      "needs_background": "light"
     },
     "output_type": "display_data"
    }
   ],
   "source": [
    "sns.lineplot(x='Id',y='Actual',data=Results.head(100))\n",
    "sns.lineplot(x='Id',y='Predicted',data=Results.head(100))\n",
    "plt.plot()"
   ]
  },
  {
   "cell_type": "code",
   "execution_count": null,
   "metadata": {},
   "outputs": [],
   "source": []
  }
 ],
 "metadata": {
  "kernelspec": {
   "display_name": "Python 3 (ipykernel)",
   "language": "python",
   "name": "python3"
  },
  "language_info": {
   "codemirror_mode": {
    "name": "ipython",
    "version": 3
   },
   "file_extension": ".py",
   "mimetype": "text/x-python",
   "name": "python",
   "nbconvert_exporter": "python",
   "pygments_lexer": "ipython3",
   "version": "3.9.12"
  }
 },
 "nbformat": 4,
 "nbformat_minor": 4
}
